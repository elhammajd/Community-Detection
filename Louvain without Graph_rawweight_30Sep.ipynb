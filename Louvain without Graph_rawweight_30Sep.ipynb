{
 "cells": [
  {
   "cell_type": "markdown",
   "id": "e64c2d4b",
   "metadata": {},
   "source": [
    "# Import Libraries"
   ]
  },
  {
   "cell_type": "code",
   "execution_count": 2,
   "id": "e1926f28",
   "metadata": {},
   "outputs": [],
   "source": [
    "import pandas as pd\n",
    "import numpy as np\n",
    "import time\n",
    "import torch\n",
    "from tqdm import tqdm\n",
    "\n",
    "from sklearn.feature_extraction.text import CountVectorizer, raw_weightTransformer\n",
    "from sklearn.metrics.pairwise import cosine_similarity\n",
    "\n",
    "from sklearn.metrics import adjusted_rand_score\n",
    "import seaborn as sns\n",
    "import matplotlib.pyplot as plt"
   ]
  },
  {
   "cell_type": "markdown",
   "id": "da83fbb8",
   "metadata": {},
   "source": [
    "# Load the data"
   ]
  },
  {
   "cell_type": "code",
   "execution_count": 3,
   "id": "d5712570",
   "metadata": {},
   "outputs": [],
   "source": [
    "# df = pd.read_csv('new_cohort.csv')\n",
    "#df = pd.read_csv('Elham_data')\n",
    "#print(df.shape)\n",
    "# df.head()"
   ]
  },
  {
   "cell_type": "code",
   "execution_count": 4,
   "id": "6e20fc80",
   "metadata": {},
   "outputs": [
    {
     "name": "stdout",
     "output_type": "stream",
     "text": [
      "(144090, 4)\n"
     ]
    }
   ],
   "source": [
    "from dfply import *\n",
    "from IPython.display import display\n",
    "from sqlalchemy import create_engine\n",
    "from sqlalchemy.engine.url import URL\n",
    "from sqlalchemy import create_engine, event\n",
    "\n",
    "conn_str = 'DRIVER={ODBC Driver 17 for SQL Server};SERVER=KVHSQLPC56;DATABASE=AHDA;Trusted_Connection=yes;'\n",
    "conn_url = URL.create(\"mssql+pyodbc\", query={\"odbc_connect\": conn_str})\n",
    "engine = create_engine(conn_url)\n",
    "\n",
    "# Query to get patient interactions after first fall\n",
    "query = \"\"\"WITH FirstFall AS (\n",
    "       SELECT \n",
    "              Distinct patient_id\n",
    "              ,min([admit_datetime]) as first_fall\n",
    "              ,min(diagnosis_age) as first_fall_age\n",
    "       FROM \n",
    "              Core.acute_care_diagnoses acd\n",
    "       WHERE \n",
    "              diagnosis_type_code NOT IN ('3', '4', '0')\n",
    "              AND SUBSTRING(icd10_code, 1, 3) IN ('W06', 'W07', 'W08', 'W13', 'W14', 'W15', 'W16', 'W17', \n",
    "                                      'X80', 'Y01', 'Y30', 'W00', 'W01', 'W03', 'W04', 'W18', \n",
    "                                      'W10', 'W05')\n",
    "              AND diagnosis_age >= 65\n",
    "       GROUP BY \n",
    "              patient_id\n",
    ")\n",
    "SELECT \n",
    "       i.patient_id, i.service_class_id, i.start_datetime, i.end_datetime\n",
    "FROM \n",
    "       FirstFall\n",
    "INNER JOIN \n",
    "       HF.interactions i ON i.patient_id = FirstFall.patient_id\n",
    "WHERE \n",
    "       i.start_datetime < first_fall\n",
    "AND        \n",
    "        i.service_class_id NOT IN (80,150,152,68)\n",
    "ORDER BY i.patient_id, i.start_datetime\"\"\"\n",
    "\n",
    "df = pd.read_sql(query, engine)\n",
    "df = df[df['service_class_id'].notna()]\n",
    "unique_patients = df['patient_id'].unique()\n",
    "       \n",
    "df = df[df['patient_id'].isin(unique_patients)]\n",
    "print(df.shape)"
   ]
  },
  {
   "cell_type": "markdown",
   "id": "98865827",
   "metadata": {},
   "source": [
    "# Data To Raw_Weight"
   ]
  },
  {
   "cell_type": "code",
   "execution_count": 5,
   "id": "70e9760b",
   "metadata": {},
   "outputs": [],
   "source": [
    "def generate_raw_weight_matrix(interactions_df):\n",
    "    # Aggregate service class IDs per patient\n",
    "    interactions_df['service_class_id'] = interactions_df['service_class_id'].astype(str)\n",
    "    patient_services = interactions_df.groupby('patient_id')['service_class_id'].agg(' '.join).reset_index()\n",
    "    \n",
    "    # Count Vectorization\n",
    "    cv = CountVectorizer(token_pattern='\\\\b\\\\w+\\\\b')  # Modify token pattern to include single characters\n",
    "    cv_matrix = cv.fit_transform(patient_services['service_class_id'])\n",
    "    \n",
    "    # Convert to DataFrame with sorted columns (no TF-IDF transformation)\n",
    "    raw_weight_df = pd.DataFrame(cv_matrix.toarray(), index=patient_services['patient_id'], columns=cv.get_feature_names_out())\n",
    "    raw_weight_df.columns = raw_weight_df.columns.astype(int)  # Convert column names to integers\n",
    "    raw_weight_df = raw_weight_df.reindex(sorted(raw_weight_df.columns), axis=1)  # Sort columns numerically\n",
    "    \n",
    "    return raw_weight_df"
   ]
  },
  {
   "cell_type": "code",
   "execution_count": 7,
   "id": "85cce504",
   "metadata": {},
   "outputs": [
    {
     "name": "stdout",
     "output_type": "stream",
     "text": [
      "(13388, 145)\n",
      "Time cost: 0.4115285873413086 seconds\n"
     ]
    }
   ],
   "source": [
    "start_time = time.time()\n",
    "raw_weight_df = generate_raw_weight_matrix(df)\n",
    "# elham_sep = pd.read_csv('Patient_Community_Projection_Result.csv')\n",
    "# raw_weight_df = raw_weight_df[raw_weight_df.index.isin(elham_sep['patients_id'])]\n",
    "# raw_weight_df = generate_raw_weight_matrix_from_sequences(df)\n",
    "print(raw_weight_df.shape)\n",
    "# raw_weight_df = raw_weight_df[(raw_weight_df.T != 0).any()]\n",
    "# print(raw_weight_df.shape)\n",
    "end_time = time.time()\n",
    "print(f\"Time cost: {end_time - start_time} seconds\")"
   ]
  },
  {
   "cell_type": "markdown",
   "id": "8a8edd17-a7da-4b5b-9a68-f9605c1cab7a",
   "metadata": {},
   "source": [
    "norm_weight = raw_weight/(from_raw_wdeg + to_raw_wdeg - raw_weight)"
   ]
  },
  {
   "cell_type": "markdown",
   "id": "6be68082",
   "metadata": {},
   "source": [
    "# Data Transform"
   ]
  },
  {
   "cell_type": "code",
   "execution_count": 8,
   "id": "b0fad045",
   "metadata": {},
   "outputs": [],
   "source": [
    "\n",
    "def zero_one_transformation_numpy(raw_weight_matrix):\n",
    "    binary_matrix = (raw_weight_matrix > 0).astype(int)\n",
    "    return binary_matrix\n",
    "\n",
    "def zero_one_transformation_torch(raw_weight_matrix):\n",
    "    raw_weight_tensor = torch.tensor(raw_weight_matrix)\n",
    "    binary_tensor = (raw_weight_tensor > 0).int().to(torch.float32)\n",
    "    return binary_tensor\n",
    "\n",
    "def normalize_rows_numpy(raw_weight_matrix):\n",
    "    norms = np.linalg.norm(raw_weight_matrix, axis=1, keepdims=True)\n",
    "    normalized_matrix = raw_weight_matrix / norms\n",
    "    return normalized_matrix\n",
    "\n",
    "def normalize_rows_torch(raw_weight_matrix):\n",
    "    raw_weight_tensor = torch.tensor(raw_weight_matrix, dtype=torch.float32)\n",
    "    norms = torch.norm(raw_weight_tensor, p=2, dim=1, keepdim=True)\n",
    "    normalized_tensor = raw_weight_tensor / norms\n",
    "    return normalized_tensor"
   ]
  },
  {
   "cell_type": "code",
   "execution_count": 9,
   "id": "36cafde0",
   "metadata": {},
   "outputs": [
    {
     "name": "stdout",
     "output_type": "stream",
     "text": [
      "torch.Size([13388, 145])\n",
      "Time cost: 0.021128177642822266 seconds\n"
     ]
    }
   ],
   "source": [
    "start_time = time.time()\n",
    "# binary_matrix = zero_one_transformation_numpy(raw_weight_df.values)\n",
    "binary_matrix = zero_one_transformation_torch(raw_weight_df.values)\n",
    "print(binary_matrix.shape)\n",
    "end_time = time.time()\n",
    "print(f\"Time cost: {end_time - start_time} seconds\")"
   ]
  },
  {
   "cell_type": "code",
   "execution_count": 10,
   "id": "5ee7609e",
   "metadata": {},
   "outputs": [
    {
     "name": "stdout",
     "output_type": "stream",
     "text": [
      "torch.Size([13388, 145])\n",
      "Time cost: 0.013176441192626953 seconds\n"
     ]
    }
   ],
   "source": [
    "start_time = time.time()\n",
    "# normalized_matrix = normalize_rows_numpy(raw_weight_df.values)\n",
    "normalized_matrix = normalize_rows_torch(raw_weight_df.values)\n",
    "print(normalized_matrix.shape)\n",
    "end_time = time.time()\n",
    "print(f\"Time cost: {end_time - start_time} seconds\")"
   ]
  },
  {
   "cell_type": "code",
   "execution_count": 11,
   "id": "066e5b5d",
   "metadata": {},
   "outputs": [
    {
     "name": "stdout",
     "output_type": "stream",
     "text": [
      "(13388,)\n"
     ]
    },
    {
     "data": {
      "text/plain": [
       "True"
      ]
     },
     "execution_count": 11,
     "metadata": {},
     "output_type": "execute_result"
    }
   ],
   "source": [
    "row_norms = np.linalg.norm(normalized_matrix, axis=1)\n",
    "print(row_norms.shape)\n",
    "np.allclose(row_norms, 1)"
   ]
  },
  {
   "cell_type": "markdown",
   "id": "314fecea",
   "metadata": {},
   "source": [
    "# Choose the matrix to proceed"
   ]
  },
  {
   "cell_type": "code",
   "execution_count": 12,
   "id": "a283286e",
   "metadata": {},
   "outputs": [],
   "source": [
    "#matrix = normalized_matrix.to(device='cuda')\n",
    "#matrix = binary_matrix.to(device='cuda')\n",
    "matrix = binary_matrix"
   ]
  },
  {
   "cell_type": "markdown",
   "id": "f030c260",
   "metadata": {},
   "source": [
    "# Pre-calculate vertices' degrees"
   ]
  },
  {
   "cell_type": "code",
   "execution_count": 13,
   "id": "b513e80c",
   "metadata": {},
   "outputs": [],
   "source": [
    "def node_degrees_numpy(matrix):\n",
    "    # Sum up the entire matrix into a single row vector\n",
    "    row_sums = np.sum(matrix, axis=0)\n",
    "    \n",
    "    # Calculate the degrees for each node\n",
    "    degrees = np.dot(matrix, row_sums) - np.sum(matrix * matrix, axis=1)\n",
    "    \n",
    "    return degrees\n",
    "\n",
    "def node_degrees_torch(matrix):\n",
    "    # Sum up the entire matrix into a single row vector\n",
    "    row_sums = torch.sum(matrix, dim=0)\n",
    "    \n",
    "    # Calculate the degrees for each node\n",
    "    degrees = torch.matmul(matrix, row_sums) - torch.sum(matrix * matrix, dim=1)\n",
    "    \n",
    "    return degrees\n"
   ]
  },
  {
   "cell_type": "code",
   "execution_count": 14,
   "id": "e1382260",
   "metadata": {},
   "outputs": [
    {
     "name": "stdout",
     "output_type": "stream",
     "text": [
      "torch.Size([13388])\n",
      "Time cost: 0.011454582214355469 seconds\n"
     ]
    }
   ],
   "source": [
    "start_time = time.time()\n",
    "# degrees = node_degrees_numpy(matrix)\n",
    "degrees = node_degrees_torch(matrix)\n",
    "print(degrees.shape)\n",
    "end_time = time.time()\n",
    "print(f\"Time cost: {end_time - start_time} seconds\")"
   ]
  },
  {
   "cell_type": "code",
   "execution_count": 15,
   "id": "76b9a17f-affe-43a8-abc4-8138e8e45aaf",
   "metadata": {},
   "outputs": [],
   "source": [
    "# raw_weight_df.index.isin(elham_sep['patients_id'])"
   ]
  },
  {
   "cell_type": "code",
   "execution_count": 16,
   "id": "5f453568-b9c4-40c5-b2d7-c7618d580b10",
   "metadata": {},
   "outputs": [
    {
     "data": {
      "text/html": [
       "<div>\n",
       "<style scoped>\n",
       "    .dataframe tbody tr th:only-of-type {\n",
       "        vertical-align: middle;\n",
       "    }\n",
       "\n",
       "    .dataframe tbody tr th {\n",
       "        vertical-align: top;\n",
       "    }\n",
       "\n",
       "    .dataframe thead th {\n",
       "        text-align: right;\n",
       "    }\n",
       "</style>\n",
       "<table border=\"1\" class=\"dataframe\">\n",
       "  <thead>\n",
       "    <tr style=\"text-align: right;\">\n",
       "      <th></th>\n",
       "      <th>1</th>\n",
       "      <th>2</th>\n",
       "      <th>3</th>\n",
       "      <th>4</th>\n",
       "      <th>5</th>\n",
       "      <th>7</th>\n",
       "      <th>8</th>\n",
       "      <th>9</th>\n",
       "      <th>10</th>\n",
       "      <th>11</th>\n",
       "      <th>...</th>\n",
       "      <th>271</th>\n",
       "      <th>275</th>\n",
       "      <th>277</th>\n",
       "      <th>283</th>\n",
       "      <th>284</th>\n",
       "      <th>287</th>\n",
       "      <th>290</th>\n",
       "      <th>292</th>\n",
       "      <th>293</th>\n",
       "      <th>294</th>\n",
       "    </tr>\n",
       "    <tr>\n",
       "      <th>patient_id</th>\n",
       "      <th></th>\n",
       "      <th></th>\n",
       "      <th></th>\n",
       "      <th></th>\n",
       "      <th></th>\n",
       "      <th></th>\n",
       "      <th></th>\n",
       "      <th></th>\n",
       "      <th></th>\n",
       "      <th></th>\n",
       "      <th></th>\n",
       "      <th></th>\n",
       "      <th></th>\n",
       "      <th></th>\n",
       "      <th></th>\n",
       "      <th></th>\n",
       "      <th></th>\n",
       "      <th></th>\n",
       "      <th></th>\n",
       "      <th></th>\n",
       "      <th></th>\n",
       "    </tr>\n",
       "  </thead>\n",
       "  <tbody>\n",
       "    <tr>\n",
       "      <th>10001903</th>\n",
       "      <td>0</td>\n",
       "      <td>0</td>\n",
       "      <td>0</td>\n",
       "      <td>0</td>\n",
       "      <td>0</td>\n",
       "      <td>0</td>\n",
       "      <td>0</td>\n",
       "      <td>0</td>\n",
       "      <td>0</td>\n",
       "      <td>0</td>\n",
       "      <td>...</td>\n",
       "      <td>0</td>\n",
       "      <td>0</td>\n",
       "      <td>0</td>\n",
       "      <td>0</td>\n",
       "      <td>0</td>\n",
       "      <td>0</td>\n",
       "      <td>0</td>\n",
       "      <td>0</td>\n",
       "      <td>0</td>\n",
       "      <td>0</td>\n",
       "    </tr>\n",
       "    <tr>\n",
       "      <th>1000582</th>\n",
       "      <td>0</td>\n",
       "      <td>0</td>\n",
       "      <td>0</td>\n",
       "      <td>0</td>\n",
       "      <td>0</td>\n",
       "      <td>0</td>\n",
       "      <td>0</td>\n",
       "      <td>0</td>\n",
       "      <td>0</td>\n",
       "      <td>0</td>\n",
       "      <td>...</td>\n",
       "      <td>0</td>\n",
       "      <td>0</td>\n",
       "      <td>0</td>\n",
       "      <td>0</td>\n",
       "      <td>0</td>\n",
       "      <td>0</td>\n",
       "      <td>0</td>\n",
       "      <td>0</td>\n",
       "      <td>0</td>\n",
       "      <td>0</td>\n",
       "    </tr>\n",
       "    <tr>\n",
       "      <th>1000703</th>\n",
       "      <td>0</td>\n",
       "      <td>0</td>\n",
       "      <td>0</td>\n",
       "      <td>0</td>\n",
       "      <td>0</td>\n",
       "      <td>0</td>\n",
       "      <td>0</td>\n",
       "      <td>0</td>\n",
       "      <td>0</td>\n",
       "      <td>0</td>\n",
       "      <td>...</td>\n",
       "      <td>0</td>\n",
       "      <td>0</td>\n",
       "      <td>0</td>\n",
       "      <td>0</td>\n",
       "      <td>0</td>\n",
       "      <td>0</td>\n",
       "      <td>0</td>\n",
       "      <td>0</td>\n",
       "      <td>0</td>\n",
       "      <td>0</td>\n",
       "    </tr>\n",
       "    <tr>\n",
       "      <th>10012A2</th>\n",
       "      <td>0</td>\n",
       "      <td>0</td>\n",
       "      <td>0</td>\n",
       "      <td>0</td>\n",
       "      <td>0</td>\n",
       "      <td>0</td>\n",
       "      <td>0</td>\n",
       "      <td>0</td>\n",
       "      <td>0</td>\n",
       "      <td>0</td>\n",
       "      <td>...</td>\n",
       "      <td>0</td>\n",
       "      <td>0</td>\n",
       "      <td>0</td>\n",
       "      <td>0</td>\n",
       "      <td>0</td>\n",
       "      <td>0</td>\n",
       "      <td>0</td>\n",
       "      <td>0</td>\n",
       "      <td>0</td>\n",
       "      <td>0</td>\n",
       "    </tr>\n",
       "    <tr>\n",
       "      <th>10015703</th>\n",
       "      <td>0</td>\n",
       "      <td>0</td>\n",
       "      <td>0</td>\n",
       "      <td>3</td>\n",
       "      <td>0</td>\n",
       "      <td>0</td>\n",
       "      <td>0</td>\n",
       "      <td>0</td>\n",
       "      <td>0</td>\n",
       "      <td>0</td>\n",
       "      <td>...</td>\n",
       "      <td>0</td>\n",
       "      <td>0</td>\n",
       "      <td>0</td>\n",
       "      <td>0</td>\n",
       "      <td>0</td>\n",
       "      <td>0</td>\n",
       "      <td>1</td>\n",
       "      <td>0</td>\n",
       "      <td>0</td>\n",
       "      <td>0</td>\n",
       "    </tr>\n",
       "  </tbody>\n",
       "</table>\n",
       "<p>5 rows × 145 columns</p>\n",
       "</div>"
      ],
      "text/plain": [
       "            1    2    3    4    5    7    8    9    10   11   ...  271  275  \\\n",
       "patient_id                                                    ...             \n",
       "10001903      0    0    0    0    0    0    0    0    0    0  ...    0    0   \n",
       "1000582       0    0    0    0    0    0    0    0    0    0  ...    0    0   \n",
       "1000703       0    0    0    0    0    0    0    0    0    0  ...    0    0   \n",
       "10012A2       0    0    0    0    0    0    0    0    0    0  ...    0    0   \n",
       "10015703      0    0    0    3    0    0    0    0    0    0  ...    0    0   \n",
       "\n",
       "            277  283  284  287  290  292  293  294  \n",
       "patient_id                                          \n",
       "10001903      0    0    0    0    0    0    0    0  \n",
       "1000582       0    0    0    0    0    0    0    0  \n",
       "1000703       0    0    0    0    0    0    0    0  \n",
       "10012A2       0    0    0    0    0    0    0    0  \n",
       "10015703      0    0    0    0    1    0    0    0  \n",
       "\n",
       "[5 rows x 145 columns]"
      ]
     },
     "execution_count": 16,
     "metadata": {},
     "output_type": "execute_result"
    }
   ],
   "source": [
    "raw_weight_df.head()"
   ]
  },
  {
   "cell_type": "code",
   "execution_count": 17,
   "id": "cac0ee39-2d1e-475d-a7b2-fe534bb7bb30",
   "metadata": {},
   "outputs": [
    {
     "data": {
      "text/plain": [
       "(13388, 145)"
      ]
     },
     "execution_count": 17,
     "metadata": {},
     "output_type": "execute_result"
    }
   ],
   "source": [
    "raw_weight_df.shape"
   ]
  },
  {
   "cell_type": "code",
   "execution_count": 18,
   "id": "12fd5717-5fe7-41eb-9704-75db9f25218c",
   "metadata": {},
   "outputs": [
    {
     "data": {
      "text/plain": [
       "[28926.0,\n",
       " 16734.0,\n",
       " 11063.0,\n",
       " 25780.0,\n",
       " 26023.0,\n",
       " 18941.0,\n",
       " 28049.0,\n",
       " 7101.0,\n",
       " 7517.0,\n",
       " 16279.0,\n",
       " 32928.0,\n",
       " 6591.0,\n",
       " 10271.0,\n",
       " 26954.0,\n",
       " 294.0,\n",
       " 25003.0,\n",
       " 25842.0,\n",
       " 21152.0,\n",
       " 1562.0,\n",
       " 18750.0,\n",
       " 7101.0,\n",
       " 26438.0,\n",
       " 15562.0,\n",
       " 27632.0,\n",
       " 13177.0,\n",
       " 15396.0,\n",
       " 32643.0,\n",
       " 16636.0,\n",
       " 7101.0,\n",
       " 25968.0,\n",
       " 16223.0,\n",
       " 11647.0,\n",
       " 12022.0,\n",
       " 10271.0,\n",
       " 13089.0,\n",
       " 15667.0,\n",
       " 10022.0,\n",
       " 10271.0,\n",
       " 18941.0,\n",
       " 10836.0,\n",
       " 10271.0,\n",
       " 10271.0,\n",
       " 20260.0,\n",
       " 7101.0,\n",
       " 20405.0,\n",
       " 10271.0,\n",
       " 29608.0,\n",
       " 22579.0,\n",
       " 5251.0,\n",
       " 26072.0,\n",
       " 24753.0,\n",
       " 19440.0,\n",
       " 17526.0,\n",
       " 10271.0,\n",
       " 7952.0,\n",
       " 7101.0,\n",
       " 900.0,\n",
       " 11833.0,\n",
       " 27855.0,\n",
       " 36008.0,\n",
       " 10271.0,\n",
       " 2307.0,\n",
       " 26167.0,\n",
       " 13478.0,\n",
       " 29007.0,\n",
       " 18605.0,\n",
       " 20946.0,\n",
       " 24720.0,\n",
       " 15139.0,\n",
       " 18369.0,\n",
       " 23465.0,\n",
       " 17372.0,\n",
       " 31519.0,\n",
       " 7148.0,\n",
       " 10271.0,\n",
       " 12669.0,\n",
       " 7101.0,\n",
       " 21254.0,\n",
       " 13675.0,\n",
       " 420.0,\n",
       " 2307.0,\n",
       " 18203.0,\n",
       " 26523.0,\n",
       " 24927.0,\n",
       " 14188.0,\n",
       " 10925.0,\n",
       " 15759.0,\n",
       " 17784.0,\n",
       " 9312.0,\n",
       " 2888.0,\n",
       " 851.0,\n",
       " 23069.0,\n",
       " 13089.0,\n",
       " 10271.0,\n",
       " 24716.0,\n",
       " 23602.0,\n",
       " 19283.0,\n",
       " 25108.0,\n",
       " 2444.0,\n",
       " 11833.0,\n",
       " 13916.0,\n",
       " 17131.0,\n",
       " 12578.0,\n",
       " 9570.0,\n",
       " 11833.0,\n",
       " 16788.0,\n",
       " 8549.0,\n",
       " 26644.0,\n",
       " 33005.0,\n",
       " 5706.0,\n",
       " 30960.0,\n",
       " 22675.0,\n",
       " 20744.0,\n",
       " 26784.0,\n",
       " 13128.0,\n",
       " 23862.0,\n",
       " 10788.0,\n",
       " 7101.0,\n",
       " 22567.0,\n",
       " 1751.0,\n",
       " 17223.0,\n",
       " 10349.0,\n",
       " 14489.0,\n",
       " 12482.0,\n",
       " 37396.0,\n",
       " 16391.0,\n",
       " 10271.0,\n",
       " 17372.0,\n",
       " 28502.0,\n",
       " 22647.0,\n",
       " 21912.0,\n",
       " 18820.0,\n",
       " 9279.0,\n",
       " 20928.0,\n",
       " 17486.0,\n",
       " 3645.0,\n",
       " 18876.0,\n",
       " 29020.0,\n",
       " 995.0,\n",
       " 12482.0,\n",
       " 27587.0,\n",
       " 11146.0,\n",
       " 11098.0,\n",
       " 17372.0,\n",
       " 20307.0,\n",
       " 13916.0,\n",
       " 35538.0,\n",
       " 7747.0,\n",
       " 15094.0,\n",
       " 8549.0,\n",
       " 30517.0,\n",
       " 17372.0,\n",
       " 23735.0,\n",
       " 9257.0,\n",
       " 10271.0,\n",
       " 18654.0,\n",
       " 11541.0,\n",
       " 27764.0,\n",
       " 14059.0,\n",
       " 22170.0,\n",
       " 19679.0,\n",
       " 10836.0,\n",
       " 19331.0,\n",
       " 730.0,\n",
       " 23187.0,\n",
       " 18941.0,\n",
       " 13089.0,\n",
       " 17450.0,\n",
       " 23101.0,\n",
       " 19955.0,\n",
       " 10271.0,\n",
       " 13916.0,\n",
       " 21065.0,\n",
       " 21822.0,\n",
       " 20685.0,\n",
       " 31368.0,\n",
       " 16872.0,\n",
       " 9545.0,\n",
       " 17937.0,\n",
       " 13588.0,\n",
       " 13514.0,\n",
       " 17372.0,\n",
       " 10969.0,\n",
       " 34014.0,\n",
       " 7101.0,\n",
       " 15640.0,\n",
       " 22558.0,\n",
       " 7955.0,\n",
       " 38700.0,\n",
       " 21264.0,\n",
       " 2319.0,\n",
       " 10975.0,\n",
       " 13089.0,\n",
       " 15522.0,\n",
       " 27580.0,\n",
       " 21820.0,\n",
       " 12578.0,\n",
       " 18434.0,\n",
       " 23834.0,\n",
       " 23340.0,\n",
       " 10271.0,\n",
       " 31001.0,\n",
       " 14951.0,\n",
       " 11680.0,\n",
       " 13961.0,\n",
       " 14096.0,\n",
       " 7101.0,\n",
       " 10271.0,\n",
       " 26548.0,\n",
       " 21406.0,\n",
       " 12882.0,\n",
       " 19755.0,\n",
       " 420.0,\n",
       " 21760.0,\n",
       " 11833.0,\n",
       " 12442.0,\n",
       " 9545.0,\n",
       " 22951.0,\n",
       " 900.0,\n",
       " 24118.0,\n",
       " 12769.0,\n",
       " 7371.0,\n",
       " 11001.0,\n",
       " 2211.0,\n",
       " 23564.0,\n",
       " 19637.0,\n",
       " 22150.0,\n",
       " 23043.0,\n",
       " 22768.0,\n",
       " 19816.0,\n",
       " 24965.0,\n",
       " 24480.0,\n",
       " 17372.0,\n",
       " 13916.0,\n",
       " 30681.0,\n",
       " 33489.0,\n",
       " 17607.0,\n",
       " 7101.0,\n",
       " 26999.0,\n",
       " 24124.0,\n",
       " 10271.0,\n",
       " 24235.0,\n",
       " 12292.0,\n",
       " 438.0,\n",
       " 16804.0,\n",
       " 13159.0,\n",
       " 13916.0,\n",
       " 21866.0,\n",
       " 10271.0,\n",
       " 10271.0,\n",
       " 15478.0,\n",
       " 13159.0,\n",
       " 18820.0,\n",
       " 22720.0,\n",
       " 24318.0,\n",
       " 1846.0,\n",
       " 9024.0,\n",
       " 27422.0,\n",
       " 19672.0,\n",
       " 26226.0,\n",
       " 17372.0,\n",
       " 27547.0,\n",
       " 34660.0,\n",
       " 1751.0,\n",
       " 16932.0,\n",
       " 7101.0,\n",
       " 15396.0,\n",
       " 24285.0,\n",
       " 12703.0,\n",
       " 27223.0,\n",
       " 33229.0,\n",
       " 19159.0,\n",
       " 24206.0,\n",
       " 13159.0,\n",
       " 14789.0,\n",
       " 10271.0,\n",
       " 9312.0,\n",
       " 17929.0,\n",
       " 36542.0,\n",
       " 5952.0,\n",
       " 21017.0,\n",
       " 12998.0,\n",
       " 31541.0,\n",
       " 18434.0,\n",
       " 7101.0,\n",
       " 9727.0,\n",
       " 19535.0,\n",
       " 18941.0,\n",
       " 27271.0,\n",
       " 9203.0,\n",
       " 36273.0,\n",
       " 28640.0,\n",
       " 21934.0,\n",
       " 7617.0,\n",
       " 15233.0,\n",
       " 13018.0,\n",
       " 10271.0,\n",
       " 3485.0,\n",
       " 17704.0,\n",
       " 18642.0,\n",
       " 7976.0,\n",
       " 18820.0,\n",
       " 19667.0,\n",
       " 13148.0,\n",
       " 12578.0,\n",
       " 13135.0,\n",
       " 8417.0,\n",
       " 13904.0,\n",
       " 24678.0,\n",
       " 30025.0,\n",
       " 12482.0,\n",
       " 19187.0,\n",
       " 7101.0,\n",
       " 15570.0,\n",
       " 21423.0,\n",
       " 10828.0,\n",
       " 29376.0,\n",
       " 25019.0,\n",
       " 23283.0,\n",
       " 17450.0,\n",
       " 12464.0,\n",
       " 24338.0,\n",
       " 2818.0,\n",
       " 31673.0,\n",
       " 21162.0,\n",
       " 1923.0,\n",
       " 30370.0,\n",
       " 21892.0,\n",
       " 20375.0,\n",
       " 18223.0,\n",
       " 20280.0,\n",
       " 15641.0,\n",
       " 29639.0,\n",
       " 22590.0,\n",
       " 16559.0,\n",
       " 10271.0,\n",
       " 32826.0,\n",
       " 10836.0,\n",
       " 9012.0,\n",
       " 36646.0,\n",
       " 21347.0,\n",
       " 28953.0,\n",
       " 31479.0,\n",
       " 31449.0,\n",
       " 31525.0,\n",
       " 7101.0,\n",
       " 25305.0,\n",
       " 33668.0,\n",
       " 18328.0,\n",
       " 12715.0,\n",
       " 20900.0,\n",
       " 38355.0,\n",
       " 22140.0,\n",
       " 21289.0,\n",
       " 10271.0,\n",
       " 7480.0,\n",
       " 8549.0,\n",
       " 20267.0,\n",
       " 16223.0,\n",
       " 17714.0,\n",
       " 10271.0,\n",
       " 26740.0,\n",
       " 13153.0,\n",
       " 19561.0,\n",
       " 17202.0,\n",
       " 23330.0,\n",
       " 17372.0,\n",
       " 20035.0,\n",
       " 21628.0,\n",
       " 23527.0,\n",
       " 10271.0,\n",
       " 21519.0,\n",
       " 10631.0,\n",
       " 10271.0,\n",
       " 12482.0,\n",
       " 20588.0,\n",
       " 13264.0,\n",
       " 10355.0,\n",
       " 3182.0,\n",
       " 9505.0,\n",
       " 17526.0,\n",
       " 22243.0,\n",
       " 28942.0,\n",
       " 22781.0,\n",
       " 20023.0,\n",
       " 16954.0,\n",
       " 17372.0,\n",
       " 11968.0,\n",
       " 22687.0,\n",
       " 14873.0,\n",
       " 4044.0,\n",
       " 20389.0,\n",
       " 32803.0,\n",
       " 10526.0,\n",
       " 20793.0,\n",
       " 26500.0,\n",
       " 7385.0,\n",
       " 29369.0,\n",
       " 27106.0,\n",
       " 27905.0,\n",
       " 23233.0,\n",
       " 4601.0,\n",
       " 12772.0,\n",
       " 25077.0,\n",
       " 16105.0,\n",
       " 12641.0,\n",
       " 12612.0,\n",
       " 1569.0,\n",
       " 7101.0,\n",
       " 7101.0,\n",
       " 21668.0,\n",
       " 24195.0,\n",
       " 4553.0,\n",
       " 19679.0,\n",
       " 22315.0,\n",
       " 7101.0,\n",
       " 15808.0,\n",
       " 4418.0,\n",
       " 22497.0,\n",
       " 18820.0,\n",
       " 12271.0,\n",
       " 6591.0,\n",
       " 1562.0,\n",
       " 17390.0,\n",
       " 22903.0,\n",
       " 17714.0,\n",
       " 2677.0,\n",
       " 16211.0,\n",
       " 17038.0,\n",
       " 29741.0,\n",
       " 34852.0,\n",
       " 10613.0,\n",
       " 28569.0,\n",
       " 24754.0,\n",
       " 7101.0,\n",
       " 19295.0,\n",
       " 12392.0,\n",
       " 19905.0,\n",
       " 10271.0,\n",
       " 18430.0,\n",
       " 1569.0,\n",
       " 21017.0,\n",
       " 12482.0,\n",
       " 26232.0,\n",
       " 21648.0,\n",
       " 9245.0,\n",
       " 875.0,\n",
       " 8932.0,\n",
       " 13089.0,\n",
       " 20680.0,\n",
       " 21294.0,\n",
       " 20190.0,\n",
       " 25822.0,\n",
       " 13916.0,\n",
       " 7101.0,\n",
       " 7461.0,\n",
       " 31299.0,\n",
       " 12022.0,\n",
       " 17769.0,\n",
       " 24040.0,\n",
       " 10845.0,\n",
       " 14616.0,\n",
       " 26103.0,\n",
       " 10271.0,\n",
       " 26848.0,\n",
       " 7101.0,\n",
       " 20705.0,\n",
       " 30703.0,\n",
       " 12022.0,\n",
       " 27051.0,\n",
       " 27104.0,\n",
       " 11728.0,\n",
       " 1569.0,\n",
       " 12578.0,\n",
       " 21839.0,\n",
       " 38520.0,\n",
       " 23635.0,\n",
       " 26046.0,\n",
       " 13916.0,\n",
       " 27812.0,\n",
       " 900.0,\n",
       " 7101.0,\n",
       " 31350.0,\n",
       " 6312.0,\n",
       " 24107.0,\n",
       " 19190.0,\n",
       " 33787.0,\n",
       " 25394.0,\n",
       " 26152.0,\n",
       " 13928.0,\n",
       " 19032.0,\n",
       " 10271.0,\n",
       " 15059.0,\n",
       " 10380.0,\n",
       " 28322.0,\n",
       " 27541.0,\n",
       " 31199.0,\n",
       " 24380.0,\n",
       " 3272.0,\n",
       " 10271.0,\n",
       " 17937.0,\n",
       " 26485.0,\n",
       " 11081.0,\n",
       " 7101.0,\n",
       " 11719.0,\n",
       " 29347.0,\n",
       " 7101.0,\n",
       " 22671.0,\n",
       " 12587.0,\n",
       " 14789.0,\n",
       " 26598.0,\n",
       " 7101.0,\n",
       " 18276.0,\n",
       " 19123.0,\n",
       " 24174.0,\n",
       " 13916.0,\n",
       " 7101.0,\n",
       " 13089.0,\n",
       " 10271.0,\n",
       " 10271.0,\n",
       " 11331.0,\n",
       " 10746.0,\n",
       " 12578.0,\n",
       " 22592.0,\n",
       " 19377.0,\n",
       " 30866.0,\n",
       " 7803.0,\n",
       " 7101.0,\n",
       " 26401.0,\n",
       " 22261.0,\n",
       " 14360.0,\n",
       " 21784.0,\n",
       " 10271.0,\n",
       " 17140.0,\n",
       " 28811.0,\n",
       " 22172.0,\n",
       " 10271.0,\n",
       " 23472.0,\n",
       " 34700.0,\n",
       " 13357.0,\n",
       " 28779.0,\n",
       " 26444.0,\n",
       " 16659.0,\n",
       " 29509.0,\n",
       " 11182.0,\n",
       " 7101.0,\n",
       " 17372.0,\n",
       " 18820.0,\n",
       " 23906.0,\n",
       " 19029.0,\n",
       " 22471.0,\n",
       " 19853.0,\n",
       " 11251.0,\n",
       " 22551.0,\n",
       " 28847.0,\n",
       " 25128.0,\n",
       " 9530.0,\n",
       " 28191.0,\n",
       " 25495.0,\n",
       " 10691.0,\n",
       " 11171.0,\n",
       " 19529.0,\n",
       " 16804.0,\n",
       " 10271.0,\n",
       " 44018.0,\n",
       " 11377.0,\n",
       " 23848.0,\n",
       " 30080.0,\n",
       " 17075.0,\n",
       " 1562.0,\n",
       " 18282.0,\n",
       " 10613.0,\n",
       " 125.0,\n",
       " 12752.0,\n",
       " 7982.0,\n",
       " 13916.0,\n",
       " 14481.0,\n",
       " 9854.0,\n",
       " 30142.0,\n",
       " 13916.0,\n",
       " 18670.0,\n",
       " 28118.0,\n",
       " 12578.0,\n",
       " 7461.0,\n",
       " 21318.0,\n",
       " 875.0,\n",
       " 8057.0,\n",
       " 1581.0,\n",
       " 22703.0,\n",
       " 17361.0,\n",
       " 22822.0,\n",
       " 13069.0,\n",
       " 20580.0,\n",
       " 25130.0,\n",
       " 1587.0,\n",
       " 24022.0,\n",
       " 13916.0,\n",
       " 14349.0,\n",
       " 23207.0,\n",
       " 10271.0,\n",
       " 22219.0,\n",
       " 7101.0,\n",
       " 39406.0,\n",
       " 8930.0,\n",
       " 20494.0,\n",
       " 7101.0,\n",
       " 11171.0,\n",
       " 7101.0,\n",
       " 28700.0,\n",
       " 18247.0,\n",
       " 10271.0,\n",
       " 2307.0,\n",
       " 21819.0,\n",
       " 15396.0,\n",
       " 32004.0,\n",
       " 11171.0,\n",
       " 21696.0,\n",
       " 21017.0,\n",
       " 3454.0,\n",
       " 25735.0,\n",
       " 19583.0,\n",
       " 20310.0,\n",
       " 25185.0,\n",
       " 12492.0,\n",
       " 28894.0,\n",
       " 10271.0,\n",
       " 23128.0,\n",
       " 10691.0,\n",
       " 10271.0,\n",
       " 15706.0,\n",
       " 11146.0,\n",
       " 10271.0,\n",
       " 29504.0,\n",
       " 11044.0,\n",
       " 8318.0,\n",
       " 17372.0,\n",
       " 21221.0,\n",
       " 30048.0,\n",
       " 23516.0,\n",
       " 24112.0,\n",
       " 13889.0,\n",
       " 342.0,\n",
       " 18188.0,\n",
       " 10271.0,\n",
       " 24402.0,\n",
       " 34932.0,\n",
       " 21452.0,\n",
       " 26851.0,\n",
       " 14120.0,\n",
       " 27759.0,\n",
       " 23637.0,\n",
       " 9514.0,\n",
       " 15040.0,\n",
       " 17977.0,\n",
       " 21115.0,\n",
       " 22876.0,\n",
       " 29904.0,\n",
       " 19289.0,\n",
       " 15875.0,\n",
       " 11482.0,\n",
       " 34885.0,\n",
       " 7976.0,\n",
       " 22908.0,\n",
       " 10271.0,\n",
       " 9980.0,\n",
       " 24194.0,\n",
       " 7491.0,\n",
       " 15711.0,\n",
       " 14329.0,\n",
       " 1448.0,\n",
       " 2888.0,\n",
       " 21305.0,\n",
       " 22354.0,\n",
       " 15289.0,\n",
       " 17372.0,\n",
       " 20989.0,\n",
       " 13645.0,\n",
       " 24773.0,\n",
       " 2888.0,\n",
       " 342.0,\n",
       " 15933.0,\n",
       " 21248.0,\n",
       " 11171.0,\n",
       " 2633.0,\n",
       " 16096.0,\n",
       " 27687.0,\n",
       " 8069.0,\n",
       " 18934.0,\n",
       " 20477.0,\n",
       " 7101.0,\n",
       " 17372.0,\n",
       " 16112.0,\n",
       " 17929.0,\n",
       " 7101.0,\n",
       " 20864.0,\n",
       " 24954.0,\n",
       " 20437.0,\n",
       " 9312.0,\n",
       " 27667.0,\n",
       " 19267.0,\n",
       " 9024.0,\n",
       " 10271.0,\n",
       " 19204.0,\n",
       " 10271.0,\n",
       " 875.0,\n",
       " 13453.0,\n",
       " 20582.0,\n",
       " 26305.0,\n",
       " 29223.0,\n",
       " 10271.0,\n",
       " 10271.0,\n",
       " 7101.0,\n",
       " 26913.0,\n",
       " 4230.0,\n",
       " 25077.0,\n",
       " 10271.0,\n",
       " 13429.0,\n",
       " 21978.0,\n",
       " 17372.0,\n",
       " 10271.0,\n",
       " 10271.0,\n",
       " 22515.0,\n",
       " 13449.0,\n",
       " 7101.0,\n",
       " 13216.0,\n",
       " 14432.0,\n",
       " 31008.0,\n",
       " 10120.0,\n",
       " 17978.0,\n",
       " 10828.0,\n",
       " 2818.0,\n",
       " 29043.0,\n",
       " 7443.0,\n",
       " 8623.0,\n",
       " 19821.0,\n",
       " 3645.0,\n",
       " 12482.0,\n",
       " 23982.0,\n",
       " 24473.0,\n",
       " 21457.0,\n",
       " 32666.0,\n",
       " 17553.0,\n",
       " 21017.0,\n",
       " 18296.0,\n",
       " 17372.0,\n",
       " 10271.0,\n",
       " 22643.0,\n",
       " 26707.0,\n",
       " 20817.0,\n",
       " 8163.0,\n",
       " 18367.0,\n",
       " 2211.0,\n",
       " 31584.0,\n",
       " 28759.0,\n",
       " 13789.0,\n",
       " 17783.0,\n",
       " 17784.0,\n",
       " 15435.0,\n",
       " 326.0,\n",
       " 26823.0,\n",
       " 23541.0,\n",
       " 25871.0,\n",
       " 30225.0,\n",
       " 18941.0,\n",
       " 10709.0,\n",
       " 1861.0,\n",
       " 5568.0,\n",
       " 900.0,\n",
       " 10271.0,\n",
       " 8549.0,\n",
       " 14721.0,\n",
       " 11171.0,\n",
       " 2211.0,\n",
       " 16948.0,\n",
       " 13082.0,\n",
       " 10271.0,\n",
       " 10271.0,\n",
       " 25343.0,\n",
       " 23785.0,\n",
       " 8670.0,\n",
       " 2888.0,\n",
       " 16233.0,\n",
       " 8305.0,\n",
       " 23553.0,\n",
       " 32499.0,\n",
       " 11681.0,\n",
       " 29069.0,\n",
       " 18546.0,\n",
       " 20483.0,\n",
       " 10271.0,\n",
       " 7101.0,\n",
       " 10271.0,\n",
       " 18739.0,\n",
       " 23228.0,\n",
       " 7101.0,\n",
       " 12578.0,\n",
       " 17607.0,\n",
       " 21512.0,\n",
       " 21625.0,\n",
       " 13873.0,\n",
       " 11122.0,\n",
       " 25465.0,\n",
       " 13916.0,\n",
       " 12578.0,\n",
       " 15667.0,\n",
       " 28653.0,\n",
       " 11766.0,\n",
       " 19208.0,\n",
       " 15422.0,\n",
       " 13412.0,\n",
       " 17072.0,\n",
       " 29411.0,\n",
       " 15105.0,\n",
       " 17246.0,\n",
       " 11001.0,\n",
       " 11647.0,\n",
       " 28334.0,\n",
       " 10271.0,\n",
       " 30103.0,\n",
       " 23865.0,\n",
       " 21520.0,\n",
       " 26454.0,\n",
       " 10631.0,\n",
       " 11833.0,\n",
       " 8095.0,\n",
       " 25302.0,\n",
       " 23714.0,\n",
       " 10271.0,\n",
       " 24676.0,\n",
       " 12821.0,\n",
       " 26698.0,\n",
       " 24499.0,\n",
       " 25559.0,\n",
       " 7261.0,\n",
       " 35377.0,\n",
       " 30697.0,\n",
       " 14259.0,\n",
       " 14911.0,\n",
       " 10683.0,\n",
       " 10271.0,\n",
       " 19916.0,\n",
       " 23353.0,\n",
       " 13916.0,\n",
       " 10787.0,\n",
       " 16804.0,\n",
       " 20932.0,\n",
       " 10591.0,\n",
       " 8670.0,\n",
       " 12578.0,\n",
       " 22052.0,\n",
       " 15485.0,\n",
       " 26376.0,\n",
       " 22658.0,\n",
       " 8908.0,\n",
       " 10271.0,\n",
       " 21830.0,\n",
       " 7443.0,\n",
       " 19622.0,\n",
       " 7101.0,\n",
       " 11122.0,\n",
       " 17125.0,\n",
       " 24980.0,\n",
       " 23005.0,\n",
       " 2879.0,\n",
       " 21017.0,\n",
       " 10828.0,\n",
       " 12578.0,\n",
       " 15478.0,\n",
       " 12038.0,\n",
       " 27240.0,\n",
       " 12578.0,\n",
       " 20868.0,\n",
       " 12578.0,\n",
       " 10745.0,\n",
       " 24298.0,\n",
       " 21845.0,\n",
       " 11557.0,\n",
       " 15370.0,\n",
       " 21176.0,\n",
       " 10271.0,\n",
       " 20751.0,\n",
       " 23835.0,\n",
       " 11250.0,\n",
       " 25238.0,\n",
       " 17372.0,\n",
       " 12578.0,\n",
       " 730.0,\n",
       " 11936.0,\n",
       " 10271.0,\n",
       " 10271.0,\n",
       " 19679.0,\n",
       " 21060.0,\n",
       " 14651.0,\n",
       " 10271.0,\n",
       " 3037.0,\n",
       " 15333.0,\n",
       " 9024.0,\n",
       " 10700.0,\n",
       " 30929.0,\n",
       " 14133.0,\n",
       " 668.0,\n",
       " 8717.0,\n",
       " 13159.0,\n",
       " 24660.0,\n",
       " 10271.0,\n",
       " 12578.0,\n",
       " 412.0,\n",
       " 28959.0,\n",
       " 17456.0,\n",
       " 7101.0,\n",
       " 10271.0,\n",
       " 15370.0,\n",
       " 12578.0,\n",
       " 21041.0,\n",
       " 17143.0,\n",
       " 12140.0,\n",
       " 2734.0,\n",
       " 20906.0,\n",
       " 11044.0,\n",
       " 20546.0,\n",
       " 15930.0,\n",
       " 19297.0,\n",
       " 30402.0,\n",
       " 13543.0,\n",
       " 25187.0,\n",
       " 31352.0,\n",
       " 19852.0,\n",
       " 25262.0,\n",
       " 7443.0,\n",
       " 27816.0,\n",
       " 22541.0,\n",
       " 12990.0,\n",
       " 23228.0,\n",
       " 28754.0,\n",
       " 31179.0,\n",
       " 25273.0,\n",
       " 15396.0,\n",
       " 31282.0,\n",
       " 18820.0,\n",
       " 18367.0,\n",
       " 15466.0,\n",
       " 29870.0,\n",
       " 11171.0,\n",
       " 9943.0,\n",
       " 420.0,\n",
       " 875.0,\n",
       " 10836.0,\n",
       " 17372.0,\n",
       " 4640.0,\n",
       " 11266.0,\n",
       " 10271.0,\n",
       " 10271.0,\n",
       " 7101.0,\n",
       " 23218.0,\n",
       " 7101.0,\n",
       " 8336.0,\n",
       " 15396.0,\n",
       " 37557.0,\n",
       " 34310.0,\n",
       " 32152.0,\n",
       " 15300.0,\n",
       " 14840.0,\n",
       " 26072.0,\n",
       " 25087.0,\n",
       " 7188.0,\n",
       " 11649.0,\n",
       " 14020.0,\n",
       " 9024.0,\n",
       " 10271.0,\n",
       " 17372.0,\n",
       " 2595.0,\n",
       " 13652.0,\n",
       " 10271.0,\n",
       " 30986.0,\n",
       " 557.0,\n",
       " 9918.0,\n",
       " 14119.0,\n",
       " 16106.0,\n",
       " 19295.0,\n",
       " 21479.0,\n",
       " 26252.0,\n",
       " 11844.0,\n",
       " 25942.0,\n",
       " 15861.0,\n",
       " 12578.0,\n",
       " 10271.0,\n",
       " 9052.0,\n",
       " 10641.0,\n",
       " 17785.0,\n",
       " 13684.0,\n",
       " 13916.0,\n",
       " 10836.0,\n",
       " 32567.0,\n",
       " 7101.0,\n",
       " 11227.0,\n",
       " 14473.0,\n",
       " 19516.0,\n",
       " 13089.0,\n",
       " 17584.0,\n",
       " 14717.0,\n",
       " ...]"
      ]
     },
     "execution_count": 18,
     "metadata": {},
     "output_type": "execute_result"
    }
   ],
   "source": [
    "degrees.tolist()"
   ]
  },
  {
   "cell_type": "markdown",
   "id": "9cd5a4fb",
   "metadata": {},
   "source": [
    "# m"
   ]
  },
  {
   "cell_type": "code",
   "execution_count": 19,
   "id": "25d0e948",
   "metadata": {},
   "outputs": [],
   "source": [
    "def calculate_m_numpy(degrees):\n",
    "    return np.sum(degrees) / 2\n",
    "\n",
    "\n",
    "def calculate_m_torch(degrees):\n",
    "    return torch.sum(degrees) / 2"
   ]
  },
  {
   "cell_type": "code",
   "execution_count": 20,
   "id": "6e700e77",
   "metadata": {},
   "outputs": [
    {
     "data": {
      "text/plain": [
       "tensor(1.1212e+08)"
      ]
     },
     "execution_count": 20,
     "metadata": {},
     "output_type": "execute_result"
    }
   ],
   "source": [
    "# m = calculate_m_numpy(degrees)\n",
    "m = calculate_m_torch(degrees)\n",
    "m"
   ]
  },
  {
   "cell_type": "markdown",
   "id": "2551f20b",
   "metadata": {},
   "source": [
    "# Init community assignments and visiting orders"
   ]
  },
  {
   "cell_type": "code",
   "execution_count": 21,
   "id": "c5aced6b",
   "metadata": {},
   "outputs": [],
   "source": [
    "def initialize_communities_numpy(matrix, shuffle=True, seed=42):\n",
    "    num_nodes = matrix.shape[0]\n",
    "    \n",
    "    # Initialize community assignments: each node in its own community\n",
    "    community_assignments = np.arange(num_nodes)\n",
    "    \n",
    "    # Initialize visiting order\n",
    "    np.random.seed(seed)\n",
    "    if shuffle:\n",
    "        visit_order = np.random.permutation(num_nodes)\n",
    "    else:\n",
    "        visit_order = np.arange(num_nodes)\n",
    "    \n",
    "    return community_assignments, visit_order\n",
    "\n",
    "def initialize_communities_torch(matrix, shuffle=True, seed=42):\n",
    "    num_nodes = matrix.shape[0]\n",
    "    \n",
    "    # Initialize community assignments: each node in its own community\n",
    "    community_assignments = torch.arange(num_nodes)\n",
    "    \n",
    "    # Initialize visiting order\n",
    "    if shuffle:\n",
    "        torch.manual_seed(seed)\n",
    "        visit_order = torch.randperm(num_nodes)\n",
    "    else:\n",
    "        visit_order = torch.arange(num_nodes)\n",
    "    \n",
    "    return community_assignments, visit_order"
   ]
  },
  {
   "cell_type": "code",
   "execution_count": 22,
   "id": "ac4ece6c",
   "metadata": {},
   "outputs": [],
   "source": [
    "# community_assignments, visit_order = initialize_communities_numpy(matrix, shuffle=True)\n",
    "community_assignments, visit_order = initialize_communities_torch(matrix, shuffle=True)\n",
    "# community_assignments, visit_order = community_assignments.to(device='cuda'), visit_order.to(device='cuda')"
   ]
  },
  {
   "cell_type": "markdown",
   "id": "ca5efc8e",
   "metadata": {},
   "source": [
    "# Community assignment"
   ]
  },
  {
   "cell_type": "code",
   "execution_count": 23,
   "id": "d2a11a18",
   "metadata": {},
   "outputs": [],
   "source": [
    "def q_assign_cpu(matrix, degrees, m, gamma, community_assignments, vertex_index, community_index):\n",
    "    X_i = matrix[vertex_index]\n",
    "    k_i = degrees[vertex_index]\n",
    "    \n",
    "    if community_index != community_assignments[vertex_index]:\n",
    "        # Calculate for the case when i is not in C\n",
    "        sum_X_j = np.sum(matrix[community_assignments==community_index], axis=0)\n",
    "        inner_product = np.inner(X_i, sum_X_j)\n",
    "        sum_k_j = np.sum(degrees[community_assignments[community_index]])\n",
    "        q_contrib = inner_product - (k_i * sum_k_j) / (2 * m)\n",
    "    else:\n",
    "        # Calculate for the case when i is in C\n",
    "        sum_X_j = np.sum(matrix[community_assignments==community_index], axis=0)\n",
    "        inner_product = np.inner(X_i, sum_X_j)\n",
    "        sum_k_j = np.sum(degrees[community_assignments[community_index]])\n",
    "        q_contrib = inner_product - (k_i * sum_k_j) / (2 * m) - np.inner(X_i, X_i) + (k_i ** 2) / (2 * m)\n",
    "    return q_contrib / (2 * m)\n",
    "\n",
    "def q_assign_gpu(matrix, degrees, m, gamma, community_assignments, vertex_index, community_index):\n",
    "    X_i = matrix[vertex_index]\n",
    "    k_i = degrees[vertex_index]\n",
    "    \n",
    "    if community_index != community_assignments[vertex_index]:\n",
    "        # Calculate for the case when i is not in C\n",
    "        sum_X_j = torch.sum(matrix[community_assignments == community_index], dim=0)\n",
    "        inner_product = torch.inner(X_i, sum_X_j)\n",
    "        sum_k_j = torch.sum(degrees[community_assignments == community_index])\n",
    "        q_contrib = inner_product - (k_i * sum_k_j) / (2 * m)\n",
    "    else:\n",
    "        # Calculate for the case when i is in C\n",
    "        sum_X_j = torch.sum(matrix[community_assignments == community_index], dim=0)\n",
    "        inner_product = torch.inner(X_i, sum_X_j)\n",
    "        sum_k_j = torch.sum(degrees[community_assignments == community_index])\n",
    "        q_contrib = inner_product - (k_i * sum_k_j) / (2 * m) - torch.inner(X_i, X_i) + (k_i ** 2) / (2 * m)\n",
    "    \n",
    "    return q_contrib / (2 * m)"
   ]
  },
  {
   "cell_type": "code",
   "execution_count": 24,
   "id": "87caaba6",
   "metadata": {},
   "outputs": [],
   "source": [
    "gamma = 1"
   ]
  },
  {
   "cell_type": "code",
   "execution_count": 25,
   "id": "27b306be",
   "metadata": {},
   "outputs": [
    {
     "name": "stdout",
     "output_type": "stream",
     "text": [
      "tensor(0.)\n",
      "tensor(0.)\n"
     ]
    }
   ],
   "source": [
    "# print(q_assign_cpu(matrix, degrees, m, gamma, community_assignments, 1, 1))\n",
    "# print(q_assign_cpu(matrix, degrees, m, gamma, community_assignments, 1, 21735))\n",
    "print(q_assign_gpu(matrix, degrees, m, gamma, community_assignments, 1, 1))\n",
    "print(q_assign_gpu(matrix, degrees, m, gamma, community_assignments, 1, 21735))"
   ]
  },
  {
   "cell_type": "markdown",
   "id": "390469f1",
   "metadata": {},
   "source": [
    "# Optimized community for a vertex"
   ]
  },
  {
   "cell_type": "markdown",
   "id": "56dcc39c",
   "metadata": {},
   "source": [
    "## Parallel"
   ]
  },
  {
   "cell_type": "code",
   "execution_count": 26,
   "id": "ab72204e",
   "metadata": {},
   "outputs": [],
   "source": [
    "def optimized_community_cpu(matrix, community_matrix, degrees, community_degrees, m, gamma, community_assignments, vertex_index):\n",
    "    X_i = matrix[vertex_index]\n",
    "    k_i = degrees[vertex_index]\n",
    "    \n",
    "    # Compute the inner product of X_i with the community matrix\n",
    "    inner_products = np.inner(X_i, community_matrix)\n",
    "    \n",
    "    # Compute degree contributions\n",
    "    degree_contributions = k_i * community_degrees / (2 * m)\n",
    "    \n",
    "    # Compute Q contributions for all communities\n",
    "    Q_contributions = inner_products - degree_contributions\n",
    "    \n",
    "    # Handle the case where i is in its current community\n",
    "    current_community = community_assignments[vertex_index]\n",
    "    same_community_mask = (community_assignments == current_community)\n",
    "    Q_contributions[same_community_mask] -= (np.inner(X_i, X_i) - (k_i ** 2) / (2 * m))\n",
    "    \n",
    "    # Find the optimal community and the corresponding delta Q\n",
    "    optimal_community = np.argmax(Q_contributions)\n",
    "    delta_Q = Q_contributions[optimal_community] - Q_contributions[current_community]\n",
    "    \n",
    "    if optimal_community != current_community:\n",
    "        # Update the community assignments and degrees\n",
    "        community_assignments[vertex_index] = optimal_community\n",
    "        community_matrix[same_community_mask] -= X_i\n",
    "        community_matrix[community_assignments == optimal_community] += X_i\n",
    "        community_degrees[same_community_mask] -= k_i\n",
    "        community_degrees[community_assignments == optimal_community] += k_i\n",
    "    \n",
    "    return optimal_community, delta_Q / (2 * m)\n",
    "\n",
    "\n",
    "def optimized_community_gpu(matrix, community_matrix, degrees, community_degrees, m, gamma, community_assignments, vertex_index):\n",
    "    X_i = matrix[vertex_index]\n",
    "    k_i = degrees[vertex_index]\n",
    "\n",
    "    # Compute the inner product of X_i with the community matrix\n",
    "    inner_products = torch.matmul(X_i, community_matrix.t())\n",
    "    \n",
    "    # Compute degree contributions\n",
    "    degree_contributions = gamma * k_i * community_degrees / (2 * m)\n",
    "    \n",
    "    # Compute Q contributions for all communities\n",
    "    Q_contributions = inner_products - degree_contributions\n",
    "    \n",
    "    # Handle the case where i is in its current community\n",
    "    current_community = community_assignments[vertex_index]\n",
    "    same_community_mask = (community_assignments == current_community)\n",
    "    Q_contributions[same_community_mask] -= (torch.dot(X_i, X_i) - gamma * (k_i ** 2) / (2 * m))\n",
    "    \n",
    "    # Find the optimal community and the corresponding delta Q\n",
    "    optimal_community_index = torch.argmax(Q_contributions)\n",
    "    optimal_community = community_assignments[optimal_community_index]\n",
    "    delta_Q = Q_contributions[optimal_community_index] - Q_contributions[vertex_index]\n",
    "    \n",
    "    if optimal_community != current_community:\n",
    "        # Update the community assignments\n",
    "        community_assignments[vertex_index] = optimal_community\n",
    "        \n",
    "        # Update the community matrix and degrees for current and optimal communities\n",
    "        community_matrix[same_community_mask] -= X_i\n",
    "        community_matrix[community_assignments == optimal_community] += X_i\n",
    "        community_matrix[vertex_index] = community_matrix[optimal_community_index]\n",
    "        \n",
    "        community_degrees[same_community_mask] -= k_i\n",
    "        community_degrees[community_assignments == optimal_community] += k_i\n",
    "        community_degrees[vertex_index] = community_degrees[optimal_community_index]\n",
    "        \n",
    "    return optimal_community.item(), delta_Q.item() / (2 * m)"
   ]
  },
  {
   "cell_type": "code",
   "execution_count": 27,
   "id": "60266472-47cb-425e-9c39-46e1bc1a8c38",
   "metadata": {},
   "outputs": [
    {
     "data": {
      "text/plain": [
       "[5, 7, 2, 7, 7, -1, -1]"
      ]
     },
     "execution_count": 27,
     "metadata": {},
     "output_type": "execute_result"
    }
   ],
   "source": [
    "[5, 7, 2, -1]\n",
    "\n",
    "[5, 7, 2, 7, 7, -1, -1]"
   ]
  },
  {
   "cell_type": "markdown",
   "id": "221b42ba",
   "metadata": {},
   "source": [
    "## Enumerate"
   ]
  },
  {
   "cell_type": "code",
   "execution_count": 28,
   "id": "a4cfba58",
   "metadata": {},
   "outputs": [],
   "source": [
    "def optimized_community_enum_cpu(matrix, degrees, m, gamma, community_assignments, vertex_index):\n",
    "    current_community = community_assignments[vertex_index]\n",
    "    available_communities = np.unique(community_assignments)\n",
    "    \n",
    "    max_q_contrib = float('-inf')\n",
    "    optimal_community = current_community\n",
    "    q_current = q_assign_cpu(matrix, degrees, m, gamma, community_assignments, vertex_index, current_community)\n",
    "    \n",
    "    for community_index in available_communities:\n",
    "        q_contrib = q_assign_cpu(matrix, degrees, m, gamma, community_assignments, vertex_index, community_index)\n",
    "        if q_contrib > max_q_contrib:\n",
    "            max_q_contrib = q_contrib\n",
    "            optimal_community = community_index\n",
    "    \n",
    "    delta_q = max_q_contrib - q_current\n",
    "    return optimal_community, delta_q\n",
    "\n",
    "def optimized_community_enum_gpu(matrix, degrees, m, gamma, community_assignments, vertex_index):\n",
    "    current_community = community_assignments[vertex_index]\n",
    "    available_communities = torch.unique(community_assignments)\n",
    "    \n",
    "    max_q_contrib = float('-inf')\n",
    "    optimal_community = current_community\n",
    "    q_current = q_assign_gpu(matrix, degrees, m, gamma, community_assignments, vertex_index, current_community)\n",
    "    \n",
    "    for community_index in available_communities:\n",
    "        q_contrib = q_assign_gpu(matrix, degrees, m, gamma, community_assignments, vertex_index, community_index)\n",
    "        if q_contrib > max_q_contrib:\n",
    "            max_q_contrib = q_contrib\n",
    "            optimal_community = community_index\n",
    "    \n",
    "    delta_q = max_q_contrib - q_current\n",
    "    return optimal_community, delta_q"
   ]
  },
  {
   "cell_type": "code",
   "execution_count": 29,
   "id": "8638a0e7",
   "metadata": {},
   "outputs": [
    {
     "name": "stdout",
     "output_type": "stream",
     "text": [
      "torch.Size([7646, 145])\n",
      "1651 tensor(7.8096e-09)\n",
      "Time cost: 0.003000497817993164 seconds\n"
     ]
    }
   ],
   "source": [
    "community_matrix = matrix.clone()\n",
    "community_degrees = degrees.clone()\n",
    "print(torch.unique(community_matrix, dim=0).shape)\n",
    "# print(community_assignments.get_device())\n",
    "start_time = time.time()\n",
    "# optimal_community, delta_q = optimized_community_cpu(matrix, degrees, m, gamma, community_assignments, 1)\n",
    "optimal_community, delta_q = optimized_community_gpu(matrix, community_matrix, degrees, community_degrees, m, gamma, community_assignments, 1)\n",
    "print(optimal_community, delta_q)\n",
    "end_time = time.time()\n",
    "print(f\"Time cost: {end_time - start_time} seconds\")"
   ]
  },
  {
   "cell_type": "markdown",
   "id": "82bf363f",
   "metadata": {},
   "source": [
    "# One level"
   ]
  },
  {
   "cell_type": "code",
   "execution_count": 30,
   "id": "b5acfab4",
   "metadata": {},
   "outputs": [],
   "source": [
    "def one_level_cpu(matrix, degrees, m, gamma):\n",
    "    # Initialize communities and visiting order\n",
    "    community_assignments, visit_order = initialize_communities_numpy(matrix, shuffle=True, seed=42)\n",
    "    community_matrix = np.copy(matrix)\n",
    "    community_degrees = np.copy(degrees)\n",
    "    total_Q = 0.0\n",
    "\n",
    "    # Iterate through the visit order with a progress bar\n",
    "    for vertex_index in tqdm(visit_order, desc=\"Processing nodes\"):\n",
    "        # Get the optimal community and delta Q\n",
    "        optimal_community, delta_Q = optimized_community_cpu(matrix, community_matrix, degrees, community_degrees, m, gamma, community_assignments, vertex_index)\n",
    "        \n",
    "        # Update community assignments and total modularity\n",
    "        community_assignments[vertex_index] = optimal_community\n",
    "        total_Q += delta_Q\n",
    "\n",
    "    # Get the number of unique communities\n",
    "    unique_communities = len(np.unique(community_assignments))\n",
    "    \n",
    "    return unique_communities, total_Q, community_assignments\n",
    "\n",
    "def one_level_gpu(matrix, degrees, m, gamma, seed=42):\n",
    "    # Initialize communities and visiting order\n",
    "    community_assignments, visit_order = initialize_communities_torch(matrix, shuffle=True, seed=seed)\n",
    "    community_matrix = matrix.clone()\n",
    "    community_degrees = degrees.clone()\n",
    "    total_Q = torch.tensor(0.0, device=matrix.device)\n",
    "\n",
    "    # Move community_assignments and visit_order to the same device as matrix\n",
    "    community_assignments = community_assignments.to(matrix.device)\n",
    "    visit_order = visit_order.to(matrix.device)\n",
    "    \n",
    "    # Iterate through the visit order with a progress bar\n",
    "    for vertex_index in tqdm(visit_order, desc=\"Processing nodes\"):\n",
    "        # Get the optimal community and delta Q\n",
    "        optimal_community, delta_Q = optimized_community_gpu(matrix, community_matrix, degrees, community_degrees, m, gamma, community_assignments, vertex_index)\n",
    "        \n",
    "        # Update community assignments and total modularity\n",
    "        community_assignments[vertex_index] = optimal_community\n",
    "        total_Q += delta_Q\n",
    "\n",
    "    # Retrieve unique communities and their corresponding rows in the community matrix\n",
    "    unique_communities, indices = torch.unique(community_assignments, return_inverse=True)\n",
    "    unique_community_indices = torch.tensor([torch.where(community_assignments == u)[0][0] for u in unique_communities], device=matrix.device)\n",
    "    unique_community_matrix = community_matrix[unique_community_indices]\n",
    "    unique_community_degrees = community_degrees[unique_community_indices]\n",
    "    \n",
    "    new_community_assignments = indices\n",
    "\n",
    "    # Create a dictionary for the output\n",
    "    result = {\n",
    "    \"num_communities\": len(unique_communities),\n",
    "    \"total_Q\": total_Q.item(),\n",
    "    \"community_assignments\": new_community_assignments,\n",
    "    \"unique_community_matrix\": unique_community_matrix,\n",
    "    \"unique_community_degrees\": unique_community_degrees\n",
    "}\n",
    "    \n",
    "    return result"
   ]
  },
  {
   "cell_type": "code",
   "execution_count": 31,
   "id": "531b68ae",
   "metadata": {},
   "outputs": [
    {
     "name": "stderr",
     "output_type": "stream",
     "text": [
      "Processing nodes: 100%|██████████| 13388/13388 [00:34<00:00, 387.69it/s]"
     ]
    },
    {
     "name": "stdout",
     "output_type": "stream",
     "text": [
      "Time cost: 34.54887819290161 seconds\n",
      "Number of unique communities: 36\n",
      "Total modularity: 0.04784078896045685\n",
      "Community assignments: tensor([10, 10,  6,  ...,  6, 10, 10])\n"
     ]
    },
    {
     "name": "stderr",
     "output_type": "stream",
     "text": [
      "\n"
     ]
    }
   ],
   "source": [
    "start_time = time.time()\n",
    "# unique_communities, total_Q, community_assignments = one_level_cpu(matrix, degrees, m, gamma)\n",
    "# unique_communities, total_Q, community_assignments = one_level_gpu(matrix, degrees, m, gamma)\n",
    "result = one_level_gpu(matrix, degrees, m, gamma)\n",
    "end_time = time.time()\n",
    "print(f\"Time cost: {end_time - start_time} seconds\")\n",
    "print(f\"Number of unique communities: {result['num_communities']}\")\n",
    "print(f\"Total modularity: {result['total_Q']}\")\n",
    "print(f\"Community assignments: {result['community_assignments']}\")"
   ]
  },
  {
   "cell_type": "code",
   "execution_count": 32,
   "id": "f0ffda03-d552-43dd-bc2e-9f8b3230f868",
   "metadata": {},
   "outputs": [
    {
     "data": {
      "text/plain": [
       "36"
      ]
     },
     "execution_count": 32,
     "metadata": {},
     "output_type": "execute_result"
    }
   ],
   "source": [
    "result['num_communities']"
   ]
  },
  {
   "cell_type": "code",
   "execution_count": 33,
   "id": "b717ebf5-0823-4b96-9f8c-380613a7f846",
   "metadata": {},
   "outputs": [
    {
     "data": {
      "text/plain": [
       "tensor([ 0,  1,  2,  3,  4,  5,  6,  7,  8,  9, 10, 11, 12, 13, 14, 15, 16, 17,\n",
       "        18, 19, 20, 21, 22, 23, 24, 25, 26, 27, 28, 29, 30, 31, 32, 33, 34, 35])"
      ]
     },
     "execution_count": 33,
     "metadata": {},
     "output_type": "execute_result"
    }
   ],
   "source": [
    "torch.unique(result['community_assignments'])"
   ]
  },
  {
   "cell_type": "code",
   "execution_count": 34,
   "id": "4bd06a00-0166-4f5f-b950-d0bcaa350115",
   "metadata": {},
   "outputs": [
    {
     "data": {
      "text/plain": [
       "torch.Size([36, 145])"
      ]
     },
     "execution_count": 34,
     "metadata": {},
     "output_type": "execute_result"
    }
   ],
   "source": [
    "torch.unique(result['unique_community_matrix'], dim=0).shape"
   ]
  },
  {
   "cell_type": "code",
   "execution_count": 35,
   "id": "2084115f-d430-4310-b770-53e7195e78b5",
   "metadata": {},
   "outputs": [
    {
     "data": {
      "text/plain": [
       "[0, 2, 2]"
      ]
     },
     "execution_count": 35,
     "metadata": {},
     "output_type": "execute_result"
    }
   ],
   "source": [
    "[1,1,0]\n",
    "[1,1,0]\n",
    "[0,1,1]\n",
    "[0,1,1]\n",
    "\n",
    "[2,2,0]\n",
    "[2,2,0]\n",
    "[0,1,1]\n",
    "[0,1,1]\n",
    "\n",
    "[2,2,0]\n",
    "[2,2,0]\n",
    "[0,2,2]\n",
    "[0,2,2]\n",
    "\n",
    "[2,2,0]\n",
    "[0,2,2]"
   ]
  },
  {
   "cell_type": "markdown",
   "id": "9b57056a-b9bc-4d42-9c76-0ec379fc4710",
   "metadata": {},
   "source": [
    "# Full Louvain algorithm"
   ]
  },
  {
   "cell_type": "code",
   "execution_count": 36,
   "id": "db82a1f9-8894-49f5-b892-0977770d0252",
   "metadata": {},
   "outputs": [],
   "source": [
    "def louvain_partition_gpu(matrix, gamma=1.0, threshold=1e-7, max_level=-1, seed=42, print_layer_result=False):\n",
    "    # Initialize degrees and modularity\n",
    "    degrees = node_degrees_torch(matrix)\n",
    "    m = calculate_m_torch(degrees)\n",
    "    total_modularity = 0.0\n",
    "    \n",
    "    # Store results\n",
    "    partitions = []\n",
    "    \n",
    "    # Start with the original matrix\n",
    "    current_matrix = matrix\n",
    "    current_degrees = degrees\n",
    "    current_gamma = gamma\n",
    "    current_m = m\n",
    "    \n",
    "    while True:\n",
    "        # Call one_level_gpu function\n",
    "        result = one_level_gpu(current_matrix, current_degrees, current_m, current_gamma, seed)\n",
    "        \n",
    "        # Extract the results\n",
    "        num_communities = result[\"num_communities\"]\n",
    "        delta_Q = result[\"total_Q\"]\n",
    "        community_assignments = result[\"community_assignments\"]\n",
    "        unique_community_matrix = result[\"unique_community_matrix\"]\n",
    "        unique_community_degrees = result[\"unique_community_degrees\"]\n",
    "        \n",
    "        # Print layer results if needed\n",
    "        if print_layer_result:\n",
    "            print(f\"Number of communities: {num_communities}, Delta Q: {delta_Q}\")\n",
    "            print(torch.unique(unique_community_matrix, dim=0).shape)\n",
    "        # Update total modularity\n",
    "        total_modularity += delta_Q\n",
    "        \n",
    "        # Append the current community assignments\n",
    "        partitions.append(community_assignments)\n",
    "        \n",
    "        # Check for termination condition\n",
    "        if delta_Q <= threshold or (max_level > 0 and len(partitions) >= max_level):\n",
    "            break\n",
    "        \n",
    "        # Update the current matrix and degrees for the next level\n",
    "        current_matrix = unique_community_matrix\n",
    "        # current_degrees = node_degrees_torch(current_matrix)\n",
    "        current_degrees = unique_community_degrees\n",
    "    \n",
    "    return partitions\n",
    "\n",
    "def louvain_communities_gpu(matrix, gamma=1.0, threshold=1e-7, max_level=-1, seed=42, print_layer_result=False):\n",
    "    # Call the louvain_partition_gpu function and get the partitions\n",
    "    partitions = louvain_partition_gpu(matrix, gamma, threshold, max_level, seed, print_layer_result)\n",
    "    \n",
    "    # Return the final partition (last element in the list)\n",
    "    return partitions[-1]"
   ]
  },
  {
   "cell_type": "code",
   "execution_count": 37,
   "id": "ddba8ee5-d2e0-43b1-b19a-388de9fcbc72",
   "metadata": {},
   "outputs": [
    {
     "name": "stderr",
     "output_type": "stream",
     "text": [
      "Processing nodes: 100%|██████████| 13388/13388 [00:34<00:00, 388.54it/s]\n"
     ]
    },
    {
     "name": "stdout",
     "output_type": "stream",
     "text": [
      "Number of communities: 31, Delta Q: 0.04784906655550003\n",
      "torch.Size([31, 145])\n"
     ]
    },
    {
     "name": "stderr",
     "output_type": "stream",
     "text": [
      "Processing nodes: 100%|██████████| 31/31 [00:00<00:00, 1709.82it/s]\n"
     ]
    },
    {
     "name": "stdout",
     "output_type": "stream",
     "text": [
      "Number of communities: 3, Delta Q: 0.0003222198283765465\n",
      "torch.Size([3, 145])\n"
     ]
    },
    {
     "name": "stderr",
     "output_type": "stream",
     "text": [
      "Processing nodes: 100%|██████████| 3/3 [00:00<00:00, 1498.86it/s]"
     ]
    },
    {
     "name": "stdout",
     "output_type": "stream",
     "text": [
      "Number of communities: 3, Delta Q: 0.0\n",
      "torch.Size([3, 145])\n"
     ]
    },
    {
     "name": "stderr",
     "output_type": "stream",
     "text": [
      "\n"
     ]
    },
    {
     "data": {
      "text/plain": [
       "tensor([0, 1, 2])"
      ]
     },
     "execution_count": 37,
     "metadata": {},
     "output_type": "execute_result"
    }
   ],
   "source": [
    "louvain_communities_gpu(matrix, gamma=1.0, threshold=1e-7, max_level=-1, seed=12, print_layer_result=True)"
   ]
  },
  {
   "cell_type": "code",
   "execution_count": 38,
   "id": "3c636e05-516c-43f8-83b7-ffc95a8123c9",
   "metadata": {},
   "outputs": [
    {
     "name": "stderr",
     "output_type": "stream",
     "text": [
      "Processing nodes: 100%|██████████| 7646/7646 [00:11<00:00, 647.89it/s]\n"
     ]
    },
    {
     "name": "stdout",
     "output_type": "stream",
     "text": [
      "Number of communities: 40, Delta Q: 0.031938355416059494\n",
      "torch.Size([40, 145])\n"
     ]
    },
    {
     "name": "stderr",
     "output_type": "stream",
     "text": [
      "Processing nodes: 100%|██████████| 40/40 [00:00<00:00, 1772.29it/s]\n"
     ]
    },
    {
     "name": "stdout",
     "output_type": "stream",
     "text": [
      "Number of communities: 7, Delta Q: 0.0015429782215505838\n",
      "torch.Size([7, 145])\n"
     ]
    },
    {
     "name": "stderr",
     "output_type": "stream",
     "text": [
      "Processing nodes: 100%|██████████| 7/7 [00:00<00:00, 2334.62it/s]\n"
     ]
    },
    {
     "name": "stdout",
     "output_type": "stream",
     "text": [
      "Number of communities: 4, Delta Q: 2.1874886442674324e-05\n",
      "torch.Size([4, 145])\n"
     ]
    },
    {
     "name": "stderr",
     "output_type": "stream",
     "text": [
      "Processing nodes: 100%|██████████| 4/4 [00:00<00:00, 2000.62it/s]"
     ]
    },
    {
     "name": "stdout",
     "output_type": "stream",
     "text": [
      "Number of communities: 4, Delta Q: 0.0\n",
      "torch.Size([4, 145])\n"
     ]
    },
    {
     "name": "stderr",
     "output_type": "stream",
     "text": [
      "\n"
     ]
    },
    {
     "data": {
      "text/plain": [
       "tensor([0, 1, 2, 3])"
      ]
     },
     "execution_count": 38,
     "metadata": {},
     "output_type": "execute_result"
    }
   ],
   "source": [
    "louvain_communities_gpu(torch.unique(matrix, dim=0), gamma=1.0, threshold=1e-7, max_level=-1, seed=42, print_layer_result=True)"
   ]
  },
  {
   "cell_type": "code",
   "execution_count": 39,
   "id": "d49719be-323d-43d2-a5c6-d372f8faaf33",
   "metadata": {},
   "outputs": [
    {
     "name": "stderr",
     "output_type": "stream",
     "text": [
      "Processing nodes: 100%|██████████| 13388/13388 [00:20<00:00, 659.21it/s]\n"
     ]
    },
    {
     "name": "stdout",
     "output_type": "stream",
     "text": [
      "Number of communities: 3114, Delta Q: 0.004024943336844444\n",
      "torch.Size([2531, 145])\n"
     ]
    },
    {
     "name": "stderr",
     "output_type": "stream",
     "text": [
      "Processing nodes: 100%|██████████| 3114/3114 [00:01<00:00, 2020.93it/s]\n"
     ]
    },
    {
     "name": "stdout",
     "output_type": "stream",
     "text": [
      "Number of communities: 2843, Delta Q: 6.899562322359998e-06\n",
      "torch.Size([2266, 145])\n"
     ]
    },
    {
     "name": "stderr",
     "output_type": "stream",
     "text": [
      "Processing nodes: 100%|██████████| 2843/2843 [00:01<00:00, 2144.20it/s]\n"
     ]
    },
    {
     "name": "stdout",
     "output_type": "stream",
     "text": [
      "Number of communities: 2836, Delta Q: 3.7334825719881337e-07\n",
      "torch.Size([2259, 145])\n"
     ]
    },
    {
     "name": "stderr",
     "output_type": "stream",
     "text": [
      "Processing nodes: 100%|██████████| 2836/2836 [00:01<00:00, 2203.05it/s]\n"
     ]
    },
    {
     "name": "stdout",
     "output_type": "stream",
     "text": [
      "Number of communities: 2836, Delta Q: 0.0\n",
      "torch.Size([2259, 145])\n"
     ]
    },
    {
     "data": {
      "text/plain": [
       "tensor([   0,    1,    2,  ..., 2833, 2834, 2835])"
      ]
     },
     "execution_count": 39,
     "metadata": {},
     "output_type": "execute_result"
    }
   ],
   "source": [
    "louvain_communities_gpu(matrix, gamma=2.0, threshold=1e-7, max_level=-1, seed=42, print_layer_result=True)"
   ]
  },
  {
   "cell_type": "markdown",
   "id": "93f265c9-3477-4b13-bbbe-f139c535aa92",
   "metadata": {},
   "source": [
    "# Test Partitions"
   ]
  },
  {
   "cell_type": "code",
   "execution_count": 40,
   "id": "009dd2fa-718f-42e9-b6cf-3118c6d3f7cb",
   "metadata": {},
   "outputs": [],
   "source": [
    "def get_final_communities(partitions):\n",
    "    \"\"\"\n",
    "    Given a list of partitions from the Louvain algorithm, map the original nodes to their final communities.\n",
    "\n",
    "    Parameters:\n",
    "    - partitions (list of torch.Tensor): List of partition tensors, where each tensor represents\n",
    "      the community assignments at a given level of the algorithm.\n",
    "\n",
    "    Returns:\n",
    "    - torch.Tensor: A tensor of community assignments for the original nodes.\n",
    "    \"\"\"\n",
    "    # Start with the last partition (the most reduced one)\n",
    "    final_partition = partitions[-1]\n",
    "    # Iterate backwards through the partitions to map to original nodes\n",
    "    for partition in reversed(partitions[:-1]):\n",
    "        final_partition = final_partition[partition]\n",
    "    \n",
    "    return final_partition"
   ]
  },
  {
   "cell_type": "code",
   "execution_count": 41,
   "id": "1ef51bcd-fdf5-4f64-bac5-e5c5bab165b2",
   "metadata": {},
   "outputs": [
    {
     "name": "stdout",
     "output_type": "stream",
     "text": [
      "tensor([0, 0, 0, 0, 0, 0, 0, 0, 0, 0, 0, 0, 1, 1, 1, 1, 1, 1, 1, 1])\n"
     ]
    }
   ],
   "source": [
    "partitions = [\n",
    "    torch.tensor([0, 0, 1, 1, 2, 2, 3, 3, 4, 4, 5, 5, 6, 6, 7, 7, 8, 8, 9, 9]),  # Initial partition (20 nodes to 10 communities)\n",
    "    torch.tensor([0, 0, 1, 1, 2, 2, 3, 3, 4, 4]),  # Second partition (10 communities to 5)\n",
    "    torch.tensor([0, 0, 0, 1, 1])  # Third partition (5 communities to 2)\n",
    "]\n",
    "\n",
    "final_communities = get_final_communities(partitions)\n",
    "print(final_communities)"
   ]
  },
  {
   "cell_type": "code",
   "execution_count": 82,
   "id": "6da7c3b6-51d4-4b82-a5dc-563ce69f0bb6",
   "metadata": {},
   "outputs": [
    {
     "name": "stderr",
     "output_type": "stream",
     "text": [
      "Processing nodes: 100%|██████████| 13387/13387 [00:35<00:00, 376.57it/s]\n"
     ]
    },
    {
     "name": "stdout",
     "output_type": "stream",
     "text": [
      "Number of communities: 26, Delta Q: 0.04795561358332634\n",
      "torch.Size([26, 145])\n"
     ]
    },
    {
     "name": "stderr",
     "output_type": "stream",
     "text": [
      "Processing nodes: 100%|██████████| 26/26 [00:00<00:00, 1715.65it/s]\n"
     ]
    },
    {
     "name": "stdout",
     "output_type": "stream",
     "text": [
      "Number of communities: 6, Delta Q: 0.00014554736844729632\n",
      "torch.Size([6, 145])\n"
     ]
    },
    {
     "name": "stderr",
     "output_type": "stream",
     "text": [
      "Processing nodes: 100%|██████████| 6/6 [00:00<00:00, 1998.24it/s]\n"
     ]
    },
    {
     "name": "stdout",
     "output_type": "stream",
     "text": [
      "Number of communities: 3, Delta Q: 4.636411904357374e-05\n",
      "torch.Size([3, 145])\n"
     ]
    },
    {
     "name": "stderr",
     "output_type": "stream",
     "text": [
      "Processing nodes: 100%|██████████| 3/3 [00:00<00:00, 3006.67it/s]\n"
     ]
    },
    {
     "name": "stdout",
     "output_type": "stream",
     "text": [
      "Number of communities: 3, Delta Q: 0.0\n",
      "torch.Size([3, 145])\n"
     ]
    },
    {
     "name": "stderr",
     "output_type": "stream",
     "text": [
      "Processing nodes: 100%|██████████| 13387/13387 [00:36<00:00, 366.05it/s]\n"
     ]
    },
    {
     "name": "stdout",
     "output_type": "stream",
     "text": [
      "Number of communities: 30, Delta Q: 0.047911740839481354\n",
      "torch.Size([30, 145])\n"
     ]
    },
    {
     "name": "stderr",
     "output_type": "stream",
     "text": [
      "Processing nodes: 100%|██████████| 30/30 [00:00<00:00, 1748.65it/s]\n"
     ]
    },
    {
     "name": "stdout",
     "output_type": "stream",
     "text": [
      "Number of communities: 5, Delta Q: 0.00022939439804758877\n",
      "torch.Size([5, 145])\n"
     ]
    },
    {
     "name": "stderr",
     "output_type": "stream",
     "text": [
      "Processing nodes: 100%|██████████| 5/5 [00:00<00:00, 2501.08it/s]\n"
     ]
    },
    {
     "name": "stdout",
     "output_type": "stream",
     "text": [
      "Number of communities: 3, Delta Q: 2.3124414383346448e-08\n",
      "torch.Size([3, 145])\n"
     ]
    },
    {
     "name": "stderr",
     "output_type": "stream",
     "text": [
      "Processing nodes: 100%|██████████| 13387/13387 [00:31<00:00, 429.94it/s]\n"
     ]
    },
    {
     "name": "stdout",
     "output_type": "stream",
     "text": [
      "Number of communities: 34, Delta Q: 0.04535328596830368\n",
      "torch.Size([34, 145])\n"
     ]
    },
    {
     "name": "stderr",
     "output_type": "stream",
     "text": [
      "Processing nodes: 100%|██████████| 34/34 [00:00<00:00, 1775.08it/s]\n"
     ]
    },
    {
     "name": "stdout",
     "output_type": "stream",
     "text": [
      "Number of communities: 5, Delta Q: 0.002019416308030486\n",
      "torch.Size([5, 145])\n"
     ]
    },
    {
     "name": "stderr",
     "output_type": "stream",
     "text": [
      "Processing nodes: 100%|██████████| 5/5 [00:00<00:00, 2497.50it/s]\n"
     ]
    },
    {
     "name": "stdout",
     "output_type": "stream",
     "text": [
      "Number of communities: 3, Delta Q: 1.2494467227952555e-05\n",
      "torch.Size([3, 145])\n"
     ]
    },
    {
     "name": "stderr",
     "output_type": "stream",
     "text": [
      "Processing nodes: 100%|██████████| 3/3 [00:00<?, ?it/s]"
     ]
    },
    {
     "name": "stdout",
     "output_type": "stream",
     "text": [
      "Number of communities: 3, Delta Q: 0.0\n",
      "torch.Size([3, 145])\n"
     ]
    },
    {
     "name": "stderr",
     "output_type": "stream",
     "text": [
      "\n"
     ]
    }
   ],
   "source": [
    "partitions = louvain_partition_gpu(matrix, gamma=1.0, threshold=1e-7, max_level=-1, seed=42, print_layer_result=True)\n",
    "partitions2 = louvain_partition_gpu(matrix, gamma=1.0, threshold=1e-7, max_level=-1, seed=12, print_layer_result=True)\n",
    "partitions3 = louvain_partition_gpu(matrix, gamma=1.0, threshold=1e-7, max_level=-1, seed=0, print_layer_result=True)"
   ]
  },
  {
   "cell_type": "code",
   "execution_count": 126,
   "id": "e1564880",
   "metadata": {},
   "outputs": [
    {
     "name": "stderr",
     "output_type": "stream",
     "text": [
      "Processing nodes: 100%|██████████| 13388/13388 [00:34<00:00, 389.65it/s]\n"
     ]
    },
    {
     "name": "stdout",
     "output_type": "stream",
     "text": [
      "Number of communities: 43, Delta Q: 0.08889663964509964\n",
      "torch.Size([43, 145])\n"
     ]
    },
    {
     "name": "stderr",
     "output_type": "stream",
     "text": [
      "Processing nodes: 100%|██████████| 43/43 [00:00<00:00, 1692.87it/s]\n"
     ]
    },
    {
     "name": "stdout",
     "output_type": "stream",
     "text": [
      "Number of communities: 6, Delta Q: 0.0015498318243771791\n",
      "torch.Size([6, 145])\n"
     ]
    },
    {
     "name": "stderr",
     "output_type": "stream",
     "text": [
      "Processing nodes: 100%|██████████| 6/6 [00:00<00:00, 2003.17it/s]\n"
     ]
    },
    {
     "name": "stdout",
     "output_type": "stream",
     "text": [
      "Number of communities: 3, Delta Q: 6.964030035305768e-05\n",
      "torch.Size([3, 145])\n"
     ]
    },
    {
     "name": "stderr",
     "output_type": "stream",
     "text": [
      "Processing nodes: 100%|██████████| 3/3 [00:00<00:00, 3015.32it/s]"
     ]
    },
    {
     "name": "stdout",
     "output_type": "stream",
     "text": [
      "Number of communities: 3, Delta Q: 0.0\n",
      "torch.Size([3, 145])\n"
     ]
    },
    {
     "name": "stderr",
     "output_type": "stream",
     "text": [
      "\n"
     ]
    }
   ],
   "source": [
    "partitions3 = louvain_partition_gpu(matrix, gamma=0.9, threshold=1e-7, max_level=-1, seed=20, print_layer_result=True)"
   ]
  },
  {
   "cell_type": "code",
   "execution_count": 83,
   "id": "600f2c72-7dfa-486b-81d1-5b96427ee3f4",
   "metadata": {},
   "outputs": [
    {
     "data": {
      "text/html": [
       "<div>\n",
       "<style scoped>\n",
       "    .dataframe tbody tr th:only-of-type {\n",
       "        vertical-align: middle;\n",
       "    }\n",
       "\n",
       "    .dataframe tbody tr th {\n",
       "        vertical-align: top;\n",
       "    }\n",
       "\n",
       "    .dataframe thead th {\n",
       "        text-align: right;\n",
       "    }\n",
       "</style>\n",
       "<table border=\"1\" class=\"dataframe\">\n",
       "  <thead>\n",
       "    <tr style=\"text-align: right;\">\n",
       "      <th></th>\n",
       "      <th>0</th>\n",
       "    </tr>\n",
       "  </thead>\n",
       "  <tbody>\n",
       "    <tr>\n",
       "      <th>0</th>\n",
       "      <td>1</td>\n",
       "    </tr>\n",
       "    <tr>\n",
       "      <th>1</th>\n",
       "      <td>1</td>\n",
       "    </tr>\n",
       "    <tr>\n",
       "      <th>2</th>\n",
       "      <td>2</td>\n",
       "    </tr>\n",
       "    <tr>\n",
       "      <th>3</th>\n",
       "      <td>2</td>\n",
       "    </tr>\n",
       "    <tr>\n",
       "      <th>4</th>\n",
       "      <td>2</td>\n",
       "    </tr>\n",
       "  </tbody>\n",
       "</table>\n",
       "</div>"
      ],
      "text/plain": [
       "   0\n",
       "0  1\n",
       "1  1\n",
       "2  2\n",
       "3  2\n",
       "4  2"
      ]
     },
     "execution_count": 83,
     "metadata": {},
     "output_type": "execute_result"
    }
   ],
   "source": [
    "final_communities = get_final_communities(partitions)\n",
    "final_communities2 = get_final_communities(partitions2)\n",
    "final_communities3 = get_final_communities(partitions3)\n",
    "final_communities3_df = pd.DataFrame(final_communities3.numpy())\n",
    "\n",
    "final_communities3_df.to_csv('final_communities_withoutgraph_before_noptid_without(80,150,152_68).csv', index=False)\n",
    "\n",
    "final_communities3_df.head()"
   ]
  },
  {
   "cell_type": "code",
   "execution_count": 84,
   "id": "1af17f3f-ba8c-4bf6-9010-31ef55c3f8ce",
   "metadata": {},
   "outputs": [
    {
     "data": {
      "text/plain": [
       "tensor([0, 1, 2])"
      ]
     },
     "execution_count": 84,
     "metadata": {},
     "output_type": "execute_result"
    }
   ],
   "source": [
    "torch.unique(final_communities2)"
   ]
  },
  {
   "cell_type": "code",
   "execution_count": 85,
   "id": "bf83c28f-91fd-4b2c-afd0-b2333646818c",
   "metadata": {},
   "outputs": [
    {
     "data": {
      "text/plain": [
       "torch.Size([13387])"
      ]
     },
     "execution_count": 85,
     "metadata": {},
     "output_type": "execute_result"
    }
   ],
   "source": [
    "final_communities2.shape"
   ]
  },
  {
   "cell_type": "code",
   "execution_count": 86,
   "id": "e11e8517-62f9-4f9d-b8e6-bb2a0fa0099b",
   "metadata": {},
   "outputs": [],
   "source": [
    "def modularity_single_community(matrix, degrees, m):\n",
    "    \"\"\"\n",
    "    Calculate the modularity for a single community.\n",
    "\n",
    "    Parameters:\n",
    "    - matrix (torch.Tensor): The input adjacency matrix.\n",
    "    - degrees (torch.Tensor): The degree vector.\n",
    "    - m (float): The total weight of the graph.\n",
    "\n",
    "    Returns:\n",
    "    - float: The modularity of the single community.\n",
    "    \"\"\"\n",
    "    # Calculate community row (sum of matrix rows corresponding to the community)\n",
    "    community_row = torch.sum(matrix, dim=0)\n",
    "    \n",
    "    # Calculate community degree\n",
    "    community_degree = torch.sum(degrees)\n",
    "    \n",
    "    # Calculate the modularity\n",
    "    inner_product_community = torch.dot(community_row, community_row)\n",
    "    degree_contribution = (community_degree ** 2) / (2 * m)\n",
    "    \n",
    "    modularity = inner_product_community - degree_contribution\n",
    "    \n",
    "    # Calculate the self-interaction part\n",
    "    self_interaction = torch.dot(matrix.flatten(), matrix.flatten().t())\n",
    "    self_interaction -= torch.dot(degrees, degrees) / (2 * m)\n",
    "    \n",
    "    # Subtract self-interaction and normalize by 2m\n",
    "    modularity -= self_interaction\n",
    "    modularity /= 2 * m\n",
    "    \n",
    "    return modularity.item()"
   ]
  },
  {
   "cell_type": "code",
   "execution_count": 87,
   "id": "3729c3ce-f86f-499f-93f1-902a86925ebc",
   "metadata": {},
   "outputs": [],
   "source": [
    "def modularity_all_partitions(matrix, partitions):\n",
    "    \"\"\"\n",
    "    Calculate the modularity for all partitions.\n",
    "\n",
    "    Parameters:\n",
    "    - matrix (torch.Tensor): The input adjacency matrix.\n",
    "    - partitions (torch.Tensor): The partition vector indicating community assignments.\n",
    "    - degrees (torch.Tensor): The degree vector.\n",
    "    - m (float): The total weight of the graph.\n",
    "\n",
    "    Returns:\n",
    "    - float: The total modularity for all partitions.\n",
    "    \"\"\"\n",
    "    degrees = node_degrees_torch(matrix)\n",
    "    m = calculate_m_torch(degrees)\n",
    "    \n",
    "    unique_communities = torch.unique(partitions)\n",
    "    total_modularity = 0.0\n",
    "    \n",
    "    for community in unique_communities:\n",
    "        community_mask = (partitions == community)\n",
    "        community_matrix = matrix[community_mask]\n",
    "        community_degrees = degrees[community_mask]\n",
    "        # print(modularity_single_community(community_matrix, community_degrees, m))\n",
    "        total_modularity += modularity_single_community(community_matrix, community_degrees, m)\n",
    "    \n",
    "    return total_modularity"
   ]
  },
  {
   "cell_type": "code",
   "execution_count": 88,
   "id": "b83e0a53-fb95-4872-84f7-6450354255ce",
   "metadata": {},
   "outputs": [
    {
     "data": {
      "text/plain": [
       "0.09628240391612053"
      ]
     },
     "execution_count": 88,
     "metadata": {},
     "output_type": "execute_result"
    }
   ],
   "source": [
    "modularity_all_partitions(matrix, final_communities2)"
   ]
  },
  {
   "cell_type": "code",
   "execution_count": 89,
   "id": "60792406-4ec9-40fa-b1cb-78fa39f1f07f",
   "metadata": {},
   "outputs": [
    {
     "data": {
      "text/plain": [
       "device(type='cpu')"
      ]
     },
     "execution_count": 89,
     "metadata": {},
     "output_type": "execute_result"
    }
   ],
   "source": [
    "matrix.device"
   ]
  },
  {
   "cell_type": "code",
   "execution_count": 90,
   "id": "23c411a5-9a5d-4329-804f-29989e10d41e",
   "metadata": {},
   "outputs": [
    {
     "name": "stdout",
     "output_type": "stream",
     "text": [
      "(13387, 5)\n",
      "torch.Size([13387, 145])\n",
      "(13387,)\n",
      "(13387,)\n"
     ]
    }
   ],
   "source": [
    "elham_sep = pd.read_csv('Patient_Community_Projection_Fall2.csv')\n",
    "elham_sep.head()\n",
    "print(elham_sep.shape)\n",
    "print(matrix.shape)\n",
    "print(raw_weight_df.index.shape)\n",
    "print(elham_sep.patients_id.shape)"
   ]
  },
  {
   "cell_type": "code",
   "execution_count": 91,
   "id": "f126c74f",
   "metadata": {},
   "outputs": [
    {
     "name": "stdout",
     "output_type": "stream",
     "text": [
      "Patient IDs in elham_sep but not in raw_weight_df: []\n",
      "Patient IDs in raw_weight_df but not in elham_sep: Index([], dtype='object', name='patient_id')\n"
     ]
    }
   ],
   "source": [
    "# Get patient IDs in elham_sep but not in raw_weight_df\n",
    "missing_patient_ids_in_elham = elham_sep[~elham_sep['patients_id'].isin(raw_weight_df.index)]['patients_id'].unique()\n",
    "print(f\"Patient IDs in elham_sep but not in raw_weight_df: {missing_patient_ids_in_elham}\")\n",
    "\n",
    "# Get patient IDs in raw_weight_df but not in elham_sep\n",
    "missing_patient_ids_in_raw_weight = raw_weight_df[~raw_weight_df.index.isin(elham_sep['patients_id'])].index.unique()\n",
    "print(f\"Patient IDs in raw_weight_df but not in elham_sep: {missing_patient_ids_in_raw_weight}\")\n"
   ]
  },
  {
   "cell_type": "code",
   "execution_count": 92,
   "id": "7dd408bc",
   "metadata": {},
   "outputs": [
    {
     "name": "stdout",
     "output_type": "stream",
     "text": [
      "Number of common patient IDs: 13387\n",
      "Shape of elham_sep_filtered: (13387, 5)\n",
      "Shape of raw_weight_df_filtered: (13387, 145)\n",
      "Shape of elham_sep_filtered after reindexing: (13387, 5)\n",
      "Shape of raw_weight_df_filtered after reindexing: (13387, 145)\n"
     ]
    }
   ],
   "source": [
    "# Step 1: Identify the common patient IDs between elham_sep and raw_weight_df\n",
    "common_patient_ids = elham_sep['patients_id'].unique()\n",
    "raw_weight_patient_ids = raw_weight_df.index.unique()\n",
    "intersection_patient_ids = np.intersect1d(common_patient_ids, raw_weight_patient_ids)\n",
    "\n",
    "print(f\"Number of common patient IDs: {len(intersection_patient_ids)}\")\n",
    "\n",
    "# Step 2: Filter each dataframe based on the common patient IDs\n",
    "elham_sep_filtered = elham_sep[elham_sep['patients_id'].isin(intersection_patient_ids)]\n",
    "raw_weight_df_filtered = raw_weight_df[raw_weight_df.index.isin(intersection_patient_ids)]\n",
    "\n",
    "print(f\"Shape of elham_sep_filtered: {elham_sep_filtered.shape}\")\n",
    "print(f\"Shape of raw_weight_df_filtered: {raw_weight_df_filtered.shape}\")\n",
    "\n",
    "# Step 3: Optional - Reindex elham_sep_filtered based on the filtered raw_weight_df index for direct comparison\n",
    "elham_sep_filtered = elham_sep_filtered.set_index('patients_id').reindex(raw_weight_df_filtered.index).reset_index()\n",
    "\n",
    "# Print the shapes to confirm\n",
    "print(f\"Shape of elham_sep_filtered after reindexing: {elham_sep_filtered.shape}\")\n",
    "print(f\"Shape of raw_weight_df_filtered after reindexing: {raw_weight_df_filtered.shape}\")\n",
    "\n",
    "# Now you can proceed with further operations or comparisons on the filtered dataframes.\n",
    "raw_weight_df=raw_weight_df_filtered"
   ]
  },
  {
   "cell_type": "code",
   "execution_count": 93,
   "id": "7ba4cac3-4970-4de7-81bb-c38a03999d42",
   "metadata": {},
   "outputs": [
    {
     "data": {
      "text/plain": [
       "0         True\n",
       "1         True\n",
       "2        False\n",
       "3        False\n",
       "4        False\n",
       "         ...  \n",
       "13382    False\n",
       "13383    False\n",
       "13384    False\n",
       "13385    False\n",
       "13386    False\n",
       "Length: 13387, dtype: bool"
      ]
     },
     "execution_count": 93,
     "metadata": {},
     "output_type": "execute_result"
    }
   ],
   "source": [
    "elham_sep.patients_id == raw_weight_df.index"
   ]
  },
  {
   "cell_type": "code",
   "execution_count": 94,
   "id": "fc10fd71-7c7b-402d-99b3-606ac49d718f",
   "metadata": {},
   "outputs": [
    {
     "data": {
      "text/plain": [
       "patient_id\n",
       "10001903    1\n",
       "1000582     1\n",
       "1000703     2\n",
       "10012A2     2\n",
       "10015703    2\n",
       "           ..\n",
       "CCB46514    2\n",
       "CCB90234    3\n",
       "CCC9ABA4    2\n",
       "CCC9C804    3\n",
       "CCCA0484    1\n",
       "Name: community_id, Length: 13387, dtype: int64"
      ]
     },
     "execution_count": 94,
     "metadata": {},
     "output_type": "execute_result"
    }
   ],
   "source": [
    "# Merge df1 with df2 on patient_id and df2's index\n",
    "merged_df = elham_sep.set_index('patients_id').reindex(raw_weight_df.index)\n",
    "\n",
    "# Extract the sorted community_id column\n",
    "sorted_community_id = merged_df['community_id']\n",
    "\n",
    "sorted_community_id"
   ]
  },
  {
   "cell_type": "code",
   "execution_count": 95,
   "id": "357585cd-b72b-4fdd-accd-193435f242e0",
   "metadata": {},
   "outputs": [
    {
     "name": "stdout",
     "output_type": "stream",
     "text": [
      "Length of sorted_community_id: 13387\n",
      "patient_id\n",
      "10001903    1\n",
      "1000582     1\n",
      "1000703     2\n",
      "10012A2     2\n",
      "10015703    2\n",
      "Name: community_id, dtype: int32\n",
      "Shape of matrix: torch.Size([13387, 145])\n",
      "Patient IDs in raw_weight_df but not in elham_sep: set()\n",
      "Patient IDs in elham_sep but not in raw_weight_df: set()\n",
      "Number of unique patient IDs in sorted_community_id: 13387\n",
      "Number of rows in matrix: 13387\n",
      "Modularity Score: 0.008539295755326748\n"
     ]
    }
   ],
   "source": [
    "\n",
    "# Step 1: Merge `elham_sep` and `raw_weight_df` using `merge` to ensure all patient IDs in `raw_weight_df` are preserved\n",
    "merged_df = pd.merge(\n",
    "    raw_weight_df.reset_index(),  # Reset index to use patient_id as a column for merging\n",
    "    elham_sep[['patients_id', 'community_id']],  # Use only relevant columns from `elham_sep`\n",
    "    left_on='patient_id',  # Use the patient_id from `raw_weight_df` (after reset)\n",
    "    right_on='patients_id',  # Merge on `patients_id` from `elham_sep`\n",
    "    how='left'  # Left join to preserve all rows in `raw_weight_df`\n",
    ")\n",
    "\n",
    "# Step 2: Set the index back to `patient_id` to align with original structure\n",
    "merged_df = merged_df.set_index('patient_id')\n",
    "\n",
    "# Step 3: Extract the `community_id` column and handle NaN values (if any)\n",
    "sorted_community_id = merged_df['community_id'].fillna(-1).astype(int)  # Fill NaNs with -1 or another value if necessary\n",
    "\n",
    "# Display the sorted community IDs for verification\n",
    "print(f\"Length of sorted_community_id: {len(sorted_community_id)}\")\n",
    "print(sorted_community_id.head())\n",
    "\n",
    "# Verify alignment with matrix shape\n",
    "print(f\"Shape of matrix: {matrix.shape}\")\n",
    "\n",
    "# Now the `sorted_community_id` should have the same length as the number of rows in `matrix`\n",
    "\n",
    "# Step 1: Find mismatched patient IDs\n",
    "missing_in_elham_sep = set(raw_weight_df.index) - set(elham_sep['patients_id'])\n",
    "missing_in_raw_weight_df = set(elham_sep['patients_id']) - set(raw_weight_df.index)\n",
    "\n",
    "print(f\"Patient IDs in raw_weight_df but not in elham_sep: {missing_in_elham_sep}\")\n",
    "print(f\"Patient IDs in elham_sep but not in raw_weight_df: {missing_in_raw_weight_df}\")\n",
    "\n",
    "# Step 2: Identify if `matrix` has an extra row\n",
    "print(f\"Number of unique patient IDs in sorted_community_id: {len(sorted_community_id)}\")\n",
    "print(f\"Number of rows in matrix: {matrix.shape[0]}\")\n",
    "\n",
    "# Step 3: Check if we need to remove an extra patient in `matrix`\n",
    "if matrix.shape[0] != len(sorted_community_id):\n",
    "    # Remove the extra row from `matrix` if present\n",
    "    print(f\"Removing the extra row from matrix.\")\n",
    "    matrix = matrix[:len(sorted_community_id)]  # Align matrix rows with sorted_community_id length\n",
    "\n",
    "# Step 4: Convert `sorted_community_id` to tensor and run the modularity function again\n",
    "sorted_community_id_tensor = torch.tensor(sorted_community_id.values)\n",
    "\n",
    "# Step 5: Re-run the modularity function\n",
    "modularity_score = modularity_all_partitions(matrix, sorted_community_id_tensor)\n",
    "print(f\"Modularity Score: {modularity_score}\")\n"
   ]
  },
  {
   "cell_type": "code",
   "execution_count": 96,
   "id": "bc9154aa-5434-46cf-b003-5a861519d941",
   "metadata": {},
   "outputs": [
    {
     "data": {
      "text/plain": [
       "-4.437273446455947e-06"
      ]
     },
     "execution_count": 96,
     "metadata": {},
     "output_type": "execute_result"
    }
   ],
   "source": [
    "random_classes = torch.randint(low=1, high=10, size=(13387,))\n",
    "modularity_all_partitions(matrix, random_classes)"
   ]
  },
  {
   "cell_type": "code",
   "execution_count": 97,
   "id": "f2a06112-6b2b-4a13-8dac-edbe0dc12397",
   "metadata": {},
   "outputs": [
    {
     "name": "stdout",
     "output_type": "stream",
     "text": [
      "Modularity Score after modifying entries: 0.0022557241831577812\n"
     ]
    }
   ],
   "source": [
    "# Modify the `modify_random_entries` function to ensure matching data types\n",
    "def modify_random_entries(tensor, portion, num_classes):\n",
    "    \"\"\"\n",
    "    Modify a portion of the entries in a given tensor with random class numbers.\n",
    "\n",
    "    Parameters:\n",
    "    tensor (torch.Tensor): The original tensor of integers.\n",
    "    portion (float): The portion of entries to modify (between 0 and 1).\n",
    "    num_classes (int): The number of different classes to assign.\n",
    "\n",
    "    Returns:\n",
    "    torch.Tensor: The modified tensor.\n",
    "    \"\"\"\n",
    "    # Determine the number of entries to modify\n",
    "    num_entries = tensor.size(0)\n",
    "    num_to_modify = int(num_entries * portion)\n",
    "    \n",
    "    # Generate random indices to modify\n",
    "    indices_to_modify = torch.randperm(num_entries)[:num_to_modify]\n",
    "    \n",
    "    # Generate random new class values\n",
    "    new_class_values = torch.randint(low=1, high=num_classes, size=(num_to_modify,), dtype=tensor.dtype)  # Match dtype to `tensor`\n",
    "\n",
    "    # Modify the selected entries in the tensor\n",
    "    tensor[indices_to_modify] = new_class_values\n",
    "\n",
    "    return tensor\n",
    "\n",
    "# Step 1: Convert `sorted_community_id` to tensor with correct dtype (e.g., `int64`)\n",
    "sorted_community_id_tensor = torch.tensor(sorted_community_id.values, dtype=torch.int64)\n",
    "\n",
    "# Step 2: Modify a portion of the `sorted_community_id_tensor`\n",
    "modified_tensor = modify_random_entries(sorted_community_id_tensor, 0.5, 10)\n",
    "\n",
    "# Step 3: Calculate modularity for the modified tensor\n",
    "modularity_score = modularity_all_partitions(matrix, modified_tensor)\n",
    "print(f\"Modularity Score after modifying entries: {modularity_score}\")\n"
   ]
  },
  {
   "cell_type": "code",
   "execution_count": 98,
   "id": "fe6e1df3-87df-4eb4-afb8-0641bd3af50c",
   "metadata": {},
   "outputs": [
    {
     "data": {
      "text/plain": [
       "0.002068527205437931"
      ]
     },
     "execution_count": 98,
     "metadata": {},
     "output_type": "execute_result"
    }
   ],
   "source": [
    "modified_tensor = modify_random_entries(torch.tensor(sorted_community_id), 0.5, 10)\n",
    "modularity_all_partitions(matrix, modified_tensor)"
   ]
  },
  {
   "cell_type": "markdown",
   "id": "0e49dd60-0bf2-45ba-86e5-c2bb4b26226c",
   "metadata": {},
   "source": [
    "# Compare Partition results"
   ]
  },
  {
   "cell_type": "code",
   "execution_count": 99,
   "id": "0bb49f64-e0de-475e-b395-116c5d25662b",
   "metadata": {},
   "outputs": [],
   "source": [
    "def generate_patient_communities_df(patient_ids, community_assignments):\n",
    "    \"\"\"\n",
    "    Generate a DataFrame with patient IDs and their corresponding community assignments.\n",
    "\n",
    "    Parameters:\n",
    "    - patient_ids (pd.Series): A series of patient IDs.\n",
    "    - community_assignments (torch.Tensor): A tensor containing the community assignments for each patient.\n",
    "\n",
    "    Returns:\n",
    "    - pd.DataFrame: A DataFrame with patient IDs and their community assignments.\n",
    "    \"\"\"\n",
    "    # Ensure community assignments is on CPU and convert to numpy array\n",
    "    community_assignments_np = community_assignments.cpu().numpy()\n",
    "    \n",
    "    # Create the DataFrame\n",
    "    patient_communities_df = pd.DataFrame({\n",
    "        'patient_id': patient_ids,\n",
    "        'community_assignment': community_assignments_np\n",
    "    })\n",
    "    \n",
    "    return patient_communities_df"
   ]
  },
  {
   "cell_type": "code",
   "execution_count": 107,
   "id": "6d940067",
   "metadata": {},
   "outputs": [
    {
     "data": {
      "text/html": [
       "<div>\n",
       "<style scoped>\n",
       "    .dataframe tbody tr th:only-of-type {\n",
       "        vertical-align: middle;\n",
       "    }\n",
       "\n",
       "    .dataframe tbody tr th {\n",
       "        vertical-align: top;\n",
       "    }\n",
       "\n",
       "    .dataframe thead th {\n",
       "        text-align: right;\n",
       "    }\n",
       "</style>\n",
       "<table border=\"1\" class=\"dataframe\">\n",
       "  <thead>\n",
       "    <tr style=\"text-align: right;\">\n",
       "      <th></th>\n",
       "      <th>patient_id</th>\n",
       "      <th>community_assignment</th>\n",
       "    </tr>\n",
       "  </thead>\n",
       "  <tbody>\n",
       "    <tr>\n",
       "      <th>0</th>\n",
       "      <td>10001903</td>\n",
       "      <td>2</td>\n",
       "    </tr>\n",
       "    <tr>\n",
       "      <th>1</th>\n",
       "      <td>1000582</td>\n",
       "      <td>0</td>\n",
       "    </tr>\n",
       "    <tr>\n",
       "      <th>2</th>\n",
       "      <td>1000703</td>\n",
       "      <td>1</td>\n",
       "    </tr>\n",
       "    <tr>\n",
       "      <th>3</th>\n",
       "      <td>10012A2</td>\n",
       "      <td>1</td>\n",
       "    </tr>\n",
       "    <tr>\n",
       "      <th>4</th>\n",
       "      <td>10015703</td>\n",
       "      <td>1</td>\n",
       "    </tr>\n",
       "  </tbody>\n",
       "</table>\n",
       "</div>"
      ],
      "text/plain": [
       "  patient_id  community_assignment\n",
       "0   10001903                     2\n",
       "1    1000582                     0\n",
       "2    1000703                     1\n",
       "3    10012A2                     1\n",
       "4   10015703                     1"
      ]
     },
     "execution_count": 107,
     "metadata": {},
     "output_type": "execute_result"
    }
   ],
   "source": [
    "patient_ids = raw_weight_df.index\n",
    "partition_df = generate_patient_communities_df(patient_ids, final_communities)\n",
    "partition_df2 = generate_patient_communities_df(patient_ids, final_communities2)\n",
    "partition_df3 = generate_patient_communities_df(patient_ids, final_communities3)\n",
    "partition_df.head()"
   ]
  },
  {
   "cell_type": "code",
   "execution_count": null,
   "id": "bd86d021",
   "metadata": {},
   "outputs": [],
   "source": [
    "# Do NOt Need To RUN\n",
    "def align_lengths(patient_ids, community_assignments):\n",
    "    \"\"\"\n",
    "    Align the lengths of patient_ids and community_assignments by truncating to the minimum length.\n",
    "    \"\"\"\n",
    "    if len(patient_ids) != len(community_assignments):\n",
    "        print(f\"Length mismatch: patient_ids ({len(patient_ids)}) and community_assignments ({len(community_assignments)})\")\n",
    "\n",
    "        # Find the minimum length to safely align both series/tensors\n",
    "        min_length = min(len(patient_ids), len(community_assignments))\n",
    "        \n",
    "        # Truncate both `patient_ids` and `community_assignments` to the minimum length\n",
    "        patient_ids = patient_ids[:min_length]\n",
    "        community_assignments = community_assignments[:min_length]\n",
    "\n",
    "    return patient_ids, community_assignments\n",
    "\n",
    "# Ensure that `patient_ids` and `final_communities` are aligned\n",
    "patient_ids, final_communities = align_lengths(patient_ids, final_communities)\n",
    "patient_ids, final_communities2 = align_lengths(patient_ids, final_communities2)\n",
    "patient_ids, final_communities3 = align_lengths(patient_ids, final_communities3)\n",
    "\n",
    "# Generate a DataFrame with patient IDs and their corresponding community assignments\n",
    "partition_df = generate_patient_communities_df(patient_ids, final_communities)\n",
    "partition_df2 = generate_patient_communities_df(patient_ids, final_communities2)\n",
    "partition_df3 = generate_patient_communities_df(patient_ids, final_communities3)\n",
    "\n",
    "# Save partition_df3 to a CSV file\n",
    "partition_df2.to_csv('communities_withoutgraph_before_noptid_without(80,150,152_68).csv', index=False)\n",
    "\n",
    "# Display the DataFrame to confirm\n",
    "print(partition_df2.head())\n"
   ]
  },
  {
   "cell_type": "code",
   "execution_count": 108,
   "id": "67affbff-b73a-40fb-8a54-1cd304e396e8",
   "metadata": {},
   "outputs": [],
   "source": [
    "def compare_communities(df1, df2):\n",
    "    \"\"\"\n",
    "    Compare two sets of community assignments using Adjusted Rand Index.\n",
    "\n",
    "    Parameters:\n",
    "    - df1 (pd.DataFrame): The first DataFrame with community assignments.\n",
    "    - df2 (pd.DataFrame): The second DataFrame with community assignments.\n",
    "\n",
    "    Returns:\n",
    "    - float: The Adjusted Rand Index score.\n",
    "    \"\"\"\n",
    "    # Ensure the patient IDs match\n",
    "    assert df1['patient_id'].equals(df2['patient_id']), \"Patient IDs do not match between the two DataFrames.\"\n",
    "\n",
    "    # Calculate the Adjusted Rand Index\n",
    "    ari_score = adjusted_rand_score(df1['community_assignment'], df2['community_assignment'])\n",
    "    \n",
    "    return ari_score"
   ]
  },
  {
   "cell_type": "code",
   "execution_count": 109,
   "id": "fc72467d-57de-4968-a83c-5726c4c11e03",
   "metadata": {},
   "outputs": [
    {
     "data": {
      "text/plain": [
       "0.7465373783230401"
      ]
     },
     "execution_count": 109,
     "metadata": {},
     "output_type": "execute_result"
    }
   ],
   "source": [
    "compare_communities(partition_df, partition_df3)"
   ]
  },
  {
   "cell_type": "code",
   "execution_count": 110,
   "id": "bc1704fe-1ade-4cbd-8ff0-32e3aa471b42",
   "metadata": {},
   "outputs": [
    {
     "data": {
      "text/html": [
       "<div>\n",
       "<style scoped>\n",
       "    .dataframe tbody tr th:only-of-type {\n",
       "        vertical-align: middle;\n",
       "    }\n",
       "\n",
       "    .dataframe tbody tr th {\n",
       "        vertical-align: top;\n",
       "    }\n",
       "\n",
       "    .dataframe thead th {\n",
       "        text-align: right;\n",
       "    }\n",
       "</style>\n",
       "<table border=\"1\" class=\"dataframe\">\n",
       "  <thead>\n",
       "    <tr style=\"text-align: right;\">\n",
       "      <th></th>\n",
       "      <th>patient_id</th>\n",
       "      <th>1</th>\n",
       "      <th>2</th>\n",
       "      <th>3</th>\n",
       "      <th>4</th>\n",
       "      <th>5</th>\n",
       "      <th>7</th>\n",
       "      <th>8</th>\n",
       "      <th>9</th>\n",
       "      <th>10</th>\n",
       "      <th>...</th>\n",
       "      <th>277</th>\n",
       "      <th>283</th>\n",
       "      <th>284</th>\n",
       "      <th>287</th>\n",
       "      <th>290</th>\n",
       "      <th>292</th>\n",
       "      <th>293</th>\n",
       "      <th>294</th>\n",
       "      <th>patients_id</th>\n",
       "      <th>community_assignment</th>\n",
       "    </tr>\n",
       "  </thead>\n",
       "  <tbody>\n",
       "    <tr>\n",
       "      <th>0</th>\n",
       "      <td>10001903</td>\n",
       "      <td>0</td>\n",
       "      <td>0</td>\n",
       "      <td>0</td>\n",
       "      <td>0</td>\n",
       "      <td>0</td>\n",
       "      <td>0</td>\n",
       "      <td>0</td>\n",
       "      <td>0</td>\n",
       "      <td>0</td>\n",
       "      <td>...</td>\n",
       "      <td>0</td>\n",
       "      <td>0</td>\n",
       "      <td>0</td>\n",
       "      <td>0</td>\n",
       "      <td>0</td>\n",
       "      <td>0</td>\n",
       "      <td>0</td>\n",
       "      <td>0</td>\n",
       "      <td>10001903</td>\n",
       "      <td>1</td>\n",
       "    </tr>\n",
       "    <tr>\n",
       "      <th>1</th>\n",
       "      <td>1000582</td>\n",
       "      <td>0</td>\n",
       "      <td>0</td>\n",
       "      <td>0</td>\n",
       "      <td>0</td>\n",
       "      <td>0</td>\n",
       "      <td>0</td>\n",
       "      <td>0</td>\n",
       "      <td>0</td>\n",
       "      <td>0</td>\n",
       "      <td>...</td>\n",
       "      <td>0</td>\n",
       "      <td>0</td>\n",
       "      <td>0</td>\n",
       "      <td>0</td>\n",
       "      <td>0</td>\n",
       "      <td>0</td>\n",
       "      <td>0</td>\n",
       "      <td>0</td>\n",
       "      <td>1000582</td>\n",
       "      <td>1</td>\n",
       "    </tr>\n",
       "    <tr>\n",
       "      <th>2</th>\n",
       "      <td>1000703</td>\n",
       "      <td>0</td>\n",
       "      <td>0</td>\n",
       "      <td>0</td>\n",
       "      <td>0</td>\n",
       "      <td>0</td>\n",
       "      <td>0</td>\n",
       "      <td>0</td>\n",
       "      <td>0</td>\n",
       "      <td>0</td>\n",
       "      <td>...</td>\n",
       "      <td>0</td>\n",
       "      <td>0</td>\n",
       "      <td>0</td>\n",
       "      <td>0</td>\n",
       "      <td>0</td>\n",
       "      <td>0</td>\n",
       "      <td>0</td>\n",
       "      <td>0</td>\n",
       "      <td>1000703</td>\n",
       "      <td>2</td>\n",
       "    </tr>\n",
       "    <tr>\n",
       "      <th>3</th>\n",
       "      <td>10012A2</td>\n",
       "      <td>0</td>\n",
       "      <td>0</td>\n",
       "      <td>0</td>\n",
       "      <td>0</td>\n",
       "      <td>0</td>\n",
       "      <td>0</td>\n",
       "      <td>0</td>\n",
       "      <td>0</td>\n",
       "      <td>0</td>\n",
       "      <td>...</td>\n",
       "      <td>0</td>\n",
       "      <td>0</td>\n",
       "      <td>0</td>\n",
       "      <td>0</td>\n",
       "      <td>0</td>\n",
       "      <td>0</td>\n",
       "      <td>0</td>\n",
       "      <td>0</td>\n",
       "      <td>10012A2</td>\n",
       "      <td>2</td>\n",
       "    </tr>\n",
       "    <tr>\n",
       "      <th>4</th>\n",
       "      <td>10015703</td>\n",
       "      <td>0</td>\n",
       "      <td>0</td>\n",
       "      <td>0</td>\n",
       "      <td>3</td>\n",
       "      <td>0</td>\n",
       "      <td>0</td>\n",
       "      <td>0</td>\n",
       "      <td>0</td>\n",
       "      <td>0</td>\n",
       "      <td>...</td>\n",
       "      <td>0</td>\n",
       "      <td>0</td>\n",
       "      <td>0</td>\n",
       "      <td>0</td>\n",
       "      <td>1</td>\n",
       "      <td>0</td>\n",
       "      <td>0</td>\n",
       "      <td>0</td>\n",
       "      <td>10015703</td>\n",
       "      <td>2</td>\n",
       "    </tr>\n",
       "  </tbody>\n",
       "</table>\n",
       "<p>5 rows × 148 columns</p>\n",
       "</div>"
      ],
      "text/plain": [
       "  patient_id  1  2  3  4  5  7  8  9  10  ...  277  283  284  287  290  292  \\\n",
       "0   10001903  0  0  0  0  0  0  0  0   0  ...    0    0    0    0    0    0   \n",
       "1    1000582  0  0  0  0  0  0  0  0   0  ...    0    0    0    0    0    0   \n",
       "2    1000703  0  0  0  0  0  0  0  0   0  ...    0    0    0    0    0    0   \n",
       "3    10012A2  0  0  0  0  0  0  0  0   0  ...    0    0    0    0    0    0   \n",
       "4   10015703  0  0  0  3  0  0  0  0   0  ...    0    0    0    0    1    0   \n",
       "\n",
       "   293  294  patients_id  community_assignment  \n",
       "0    0    0     10001903                     1  \n",
       "1    0    0      1000582                     1  \n",
       "2    0    0      1000703                     2  \n",
       "3    0    0      10012A2                     2  \n",
       "4    0    0     10015703                     2  \n",
       "\n",
       "[5 rows x 148 columns]"
      ]
     },
     "execution_count": 110,
     "metadata": {},
     "output_type": "execute_result"
    }
   ],
   "source": [
    "merged_df = merged_df.reset_index().rename(columns={'community_id':'community_assignment'})\n",
    "merged_df.head()"
   ]
  },
  {
   "cell_type": "code",
   "execution_count": 111,
   "id": "528ee842-1d65-4f47-889b-21bb3a6e2828",
   "metadata": {},
   "outputs": [
    {
     "data": {
      "text/plain": [
       "0.07561114364842048"
      ]
     },
     "execution_count": 111,
     "metadata": {},
     "output_type": "execute_result"
    }
   ],
   "source": [
    "compare_communities(merged_df, partition_df2)"
   ]
  },
  {
   "cell_type": "code",
   "execution_count": 112,
   "id": "8d337fe4-a676-44c3-8da5-fa8390f4434e",
   "metadata": {},
   "outputs": [],
   "source": [
    "def plot_community_overlap(df1, df2):\n",
    "    \"\"\"\n",
    "    Plot the overlap between two sets of community assignments.\n",
    "\n",
    "    Parameters:\n",
    "    - df1 (pd.DataFrame): The first DataFrame with community assignments.\n",
    "    - df2 (pd.DataFrame): The second DataFrame with community assignments.\n",
    "    \"\"\"\n",
    "    # Create a contingency table\n",
    "    contingency_table = pd.crosstab(df1['community_assignment'], df2['community_assignment'])\n",
    "    \n",
    "    # Plot the heatmap\n",
    "    plt.figure(figsize=(10, 8))\n",
    "    sns.heatmap(contingency_table, annot=True, fmt=\"d\", cmap=\"viridis\")\n",
    "    plt.xlabel('First Random Seed')\n",
    "    plt.ylabel('Second Random Seed')\n",
    "    plt.title('Community Assignment Overlap')\n",
    "    plt.show()"
   ]
  },
  {
   "cell_type": "code",
   "execution_count": 113,
   "id": "85c967c7-1ac6-44c9-8c6d-7c0f4f861ade",
   "metadata": {},
   "outputs": [
    {
     "data": {
      "image/png": "[encoded data removed]",
      "text/plain": [
       "<Figure size 720x576 with 2 Axes>"
      ]
     },
     "metadata": {
      "needs_background": "light"
     },
     "output_type": "display_data"
    }
   ],
   "source": [
    "plot_community_overlap(merged_df, partition_df2)"
   ]
  },
  {
   "cell_type": "code",
   "execution_count": 117,
   "id": "181ea8b0",
   "metadata": {},
   "outputs": [
    {
     "name": "stdout",
     "output_type": "stream",
     "text": [
      "     service_class_id                   service_class_name  1  #patients  \\\n",
      "0                   1        MHSU-Psych Emerg Service - ED          28.0   \n",
      "1                   2          MHSU-Mobile Crisis Response          44.0   \n",
      "2                   3          MHSU-Comm Outreach Mod/High           1.0   \n",
      "3                   4               Seniors Outreach Teams         476.0   \n",
      "4                   5        MHSU-Acute Care Regular-Adult          24.0   \n",
      "..                ...                                  ...           ...   \n",
      "197               293  Rehabilitation-Spasticity-Intensive           8.0   \n",
      "198               294       MHSU Health & Housing Supports           0.0   \n",
      "199               295         Acute Care-Disaster-Overflow           2.0   \n",
      "200               296         MHSU-Infant and Early Yrs MH           0.0   \n",
      "201               298            MHSU-Eating Disorders-Amb           0.0   \n",
      "\n",
      "     1  #interactions  community%1  2  #patients  2  #interactions  \\\n",
      "0                49.0         1.02          53.0             123.0   \n",
      "1                82.0         1.61         104.0             281.0   \n",
      "2                 1.0         0.04          15.0              28.0   \n",
      "3               649.0        17.42        1034.0            1501.0   \n",
      "4                38.0         0.88          74.0             102.0   \n",
      "..                ...          ...           ...               ...   \n",
      "197              28.0         0.29          10.0              36.0   \n",
      "198               0.0         0.00           4.0               6.0   \n",
      "199               2.0         0.07           0.0               0.0   \n",
      "200               0.0         0.00           0.0               0.0   \n",
      "201               0.0         0.00           0.0               0.0   \n",
      "\n",
      "     community%2  0  #patients  0  #interactions  community%0  \n",
      "0           1.16          65.0             115.0         1.07  \n",
      "1           2.28         116.0             379.0         1.90  \n",
      "2           0.33          17.0              33.0         0.28  \n",
      "3          22.66        1046.0            1478.0        17.17  \n",
      "4           1.62          83.0             120.0         1.36  \n",
      "..           ...           ...               ...          ...  \n",
      "197         0.22          17.0              81.0         0.28  \n",
      "198         0.09           2.0              17.0         0.03  \n",
      "199         0.00           1.0               1.0         0.02  \n",
      "200         0.00           0.0               0.0         0.00  \n",
      "201         0.00           0.0               0.0         0.00  \n",
      "\n",
      "[202 rows x 11 columns]\n"
     ]
    }
   ],
   "source": [
    "import numpy as np\n",
    "import pandas as pd\n",
    "\n",
    "class CommunityAnalysisReport:\n",
    "    def __init__(self, engine):\n",
    "        self.engine = engine\n",
    "\n",
    "    def take_svcid_HF(self):\n",
    "        # Retrieve all service class IDs\n",
    "        query_s1 = \"\"\" \n",
    "            SELECT DISTINCT service_class_id \n",
    "            FROM HF.interactions \n",
    "            WHERE service_class_id != -1\n",
    "            \"\"\"\n",
    "        return pd.read_sql(query_s1, self.engine)\n",
    "\n",
    "    def interactionsAndPatientsOFeachSvc_HF(self, df):\n",
    "        # Get the number of patients per service class in the given dataframe\n",
    "        patient_ids = df[\"patient_id\"].unique()\n",
    "        patient_string = ','.join(f\"'{pid}'\" for pid in patient_ids)\n",
    "\n",
    "        query_s2 = f\"\"\" \n",
    "            SELECT service_class_id, \n",
    "                   COUNT(DISTINCT patient_id) AS patients,\n",
    "                   COUNT(*) AS interactions\n",
    "            FROM HF.interactions \n",
    "            WHERE patient_id IN ({patient_string}) \n",
    "              AND service_class_id != -1\n",
    "            GROUP BY service_class_id\n",
    "            ORDER BY patients DESC\n",
    "            \"\"\"\n",
    "\n",
    "        return pd.read_sql(query_s2, self.engine)\n",
    "\n",
    "    def safe_division1(self,x, y):\n",
    "        if y == 0:\n",
    "            return np.nan\n",
    "        else:\n",
    "            return round(((x / y)*100), 2)\n",
    "\n",
    "    def interactions_and_patients_of_each_svc_HF(self, df):\n",
    "\n",
    "        take_svcid_label = self.take_svcid_HF()\n",
    "        i = 0\n",
    "        for community in df.community_id.unique():\n",
    "            index = np.where(df.community_id == community)\n",
    "            community_df = df.iloc[index]\n",
    "            interactionsAndPatientsOFeachSvc_df = self.interactionsAndPatientsOFeachSvc_HF(community_df)          \n",
    "            interactionsAndPatientsOFeachSvcMergeWithAllSvc = pd.merge(\n",
    "                take_svcid_label, \n",
    "                interactionsAndPatientsOFeachSvc_df, \n",
    "                on='service_class_id', \n",
    "                how='left'\n",
    "            )\n",
    "            new_patients_col = f\"{community}  #patients\"\n",
    "            new_interactions_col = f\"{community}  #interactions\" \n",
    "            col_dict = {'patients': new_patients_col, 'interactions': new_interactions_col}\n",
    "            interactionsAndPatientsOFeachSvcMergeWithAllSvc = interactionsAndPatientsOFeachSvcMergeWithAllSvc.rename(columns=col_dict)\n",
    "            interactionsAndPatientsOFeachSvcMergeWithAllSvc = interactionsAndPatientsOFeachSvcMergeWithAllSvc.fillna(0)\n",
    "\n",
    "            summary = interactionsAndPatientsOFeachSvcMergeWithAllSvc\n",
    "            summary[f'community%{community}'] = summary.apply(\n",
    "                lambda row: self.safe_division1(row[new_patients_col], len(community_df)), axis=1\n",
    "            )\n",
    "\n",
    "            if i != 0:\n",
    "                df_copy = pd.merge(df_copy, summary, on='service_class_id', how='left')\n",
    "            else:  \n",
    "                df_copy = summary.copy(deep=True)\n",
    "\n",
    "            i += 1\n",
    "\n",
    "        result_df_s = df_copy.fillna(0)\n",
    "\n",
    "        # Fetch service class names\n",
    "        query = \"\"\"\n",
    "                SELECT DISTINCT i.service_class_id, s.service_class_name\n",
    "                FROM HF.interactions i\n",
    "                JOIN Ref.service_classifications s ON i.service_class_id = s.service_class_id;\n",
    "                \"\"\"\n",
    "        df_service = pd.read_sql(query, self.engine)\n",
    "\n",
    "        # Map service_class_id to service_class_name\n",
    "        result_df_s = result_df_s.merge(df_service, on='service_class_id', how='left')\n",
    "\n",
    "        # Reorder columns to place service_class_name after service_class_id\n",
    "        columns = result_df_s.columns.tolist()\n",
    "        service_class_name = columns.pop(-1)  # Assuming service_class_name is the last column\n",
    "        columns.insert(1, service_class_name)\n",
    "        result_df_s = result_df_s[columns]\n",
    "\n",
    "        return result_df_s\n",
    "\n",
    "community_report = CommunityAnalysisReport(engine)\n",
    "\n",
    "# Load your community DataFrame (make sure 'community_id' is a column)\n",
    "df = pd.read_csv('communities_withoutgraph_before_noptid_without(80,150,152_68).csv')\n",
    "df.rename(columns={'community_assignment': 'community_id'}, inplace=True)\n",
    "\n",
    "# Generate the service summary\n",
    "service = community_report.interactions_and_patients_of_each_svc_HF(df)\n",
    "\n",
    "# Save to CSV\n",
    "service.to_csv('Community_scv_afterfall_without(80,150,152,68).csv', index=False)\n",
    "\n",
    "# Display the result\n",
    "print(service)\n"
   ]
  },
  {
   "cell_type": "code",
   "execution_count": 118,
   "id": "f75c3bb7",
   "metadata": {},
   "outputs": [
    {
     "name": "stdout",
     "output_type": "stream",
     "text": [
      "Number of duplicate patient IDs: 0\n",
      "community_id\n",
      "0    6091\n",
      "1    2733\n",
      "2    4563\n",
      "Name: patient_id, dtype: int64\n"
     ]
    },
    {
     "data": {
      "text/html": [
       "<div>\n",
       "<style scoped>\n",
       "    .dataframe tbody tr th:only-of-type {\n",
       "        vertical-align: middle;\n",
       "    }\n",
       "\n",
       "    .dataframe tbody tr th {\n",
       "        vertical-align: top;\n",
       "    }\n",
       "\n",
       "    .dataframe thead th {\n",
       "        text-align: right;\n",
       "    }\n",
       "</style>\n",
       "<table border=\"1\" class=\"dataframe\">\n",
       "  <thead>\n",
       "    <tr style=\"text-align: right;\">\n",
       "      <th></th>\n",
       "      <th>patient_id</th>\n",
       "      <th>community_assignment</th>\n",
       "    </tr>\n",
       "  </thead>\n",
       "  <tbody>\n",
       "    <tr>\n",
       "      <th>0</th>\n",
       "      <td>10001903</td>\n",
       "      <td>2</td>\n",
       "    </tr>\n",
       "    <tr>\n",
       "      <th>1</th>\n",
       "      <td>1000582</td>\n",
       "      <td>0</td>\n",
       "    </tr>\n",
       "    <tr>\n",
       "      <th>2</th>\n",
       "      <td>1000703</td>\n",
       "      <td>1</td>\n",
       "    </tr>\n",
       "    <tr>\n",
       "      <th>3</th>\n",
       "      <td>10012A2</td>\n",
       "      <td>1</td>\n",
       "    </tr>\n",
       "    <tr>\n",
       "      <th>4</th>\n",
       "      <td>10015703</td>\n",
       "      <td>1</td>\n",
       "    </tr>\n",
       "  </tbody>\n",
       "</table>\n",
       "</div>"
      ],
      "text/plain": [
       "  patient_id  community_assignment\n",
       "0   10001903                     2\n",
       "1    1000582                     0\n",
       "2    1000703                     1\n",
       "3    10012A2                     1\n",
       "4   10015703                     1"
      ]
     },
     "execution_count": 118,
     "metadata": {},
     "output_type": "execute_result"
    }
   ],
   "source": [
    "duplicate_patients = df['patient_id'].duplicated().sum()\n",
    "print(f\"Number of duplicate patient IDs: {duplicate_patients}\")\n",
    "patient_counts = df.groupby('community_id')['patient_id'].nunique()\n",
    "print(patient_counts)\n",
    "\n",
    "patient_counts.to_csv('patient_counts_after_without(80,150,152_68).csv', index=False)\n",
    "\n",
    "partition_df.head()"
   ]
  },
  {
   "cell_type": "code",
   "execution_count": null,
   "id": "fcb6d16f",
   "metadata": {},
   "outputs": [],
   "source": []
  }
 ],
 "metadata": {
  "kernelspec": {
   "display_name": "Python 3 (ipykernel)",
   "language": "python",
   "name": "python3"
  },
  "language_info": {
   "codemirror_mode": {
    "name": "ipython",
    "version": 3
   },
   "file_extension": ".py",
   "mimetype": "text/x-python",
   "name": "python",
   "nbconvert_exporter": "python",
   "pygments_lexer": "ipython3",
   "version": "3.10.4"
  }
 },
 "nbformat": 4,
 "nbformat_minor": 5
}
